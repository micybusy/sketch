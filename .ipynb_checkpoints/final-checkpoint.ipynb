{
 "cells": [
  {
   "cell_type": "markdown",
   "id": "a6f287f2",
   "metadata": {},
   "source": [
    "# Final Project\n",
    "\n",
    "**Subject**: Grammy award nominee estimation.\n",
    "\n",
    "* Harun Lokman Kılıç (kilichar18@itu.edu.tr)\n",
    "* Serdar Akbulut (serdar.akbulut.1997@gmail.com)\n"
   ]
  },
  {
   "cell_type": "markdown",
   "id": "7098a1b6",
   "metadata": {},
   "source": [
    "## Dataset\n",
    "* We have used a dataset from Kaggle that contains Billboard Magazine's weekly Hot 100 lists from 1958 to 2021 ([Kaggle Dataset](https://www.kaggle.com/datasets/dhruvildave/billboard-the-hot-100-songs)). \n",
    "* We have used a code that pulls lists from Wikipedia pages to import Grammy nominee lists of the \"Record of The Year\" category. We have done this as we could not find a proper dataset online that contained Grammy nominees of each year [Gitub Code Link](PUT LINK HERE)."
   ]
  },
  {
   "cell_type": "markdown",
   "id": "b5b4b5ff",
   "metadata": {},
   "source": [
    "## Goal\n",
    "Our aim is to analyze the annual Hot 100 data, then add weights to each song based on its importance (calculated by how many weeks the said song has remained in the list; by sum of its ranks during that period; and finally by a ratio that calculates its average rank) and then sort these weights to decide on the most succesful songs of the year and then compare our guesses with the actual Grammy nominees.    "
   ]
  },
  {
   "cell_type": "markdown",
   "id": "9619b054",
   "metadata": {},
   "source": [
    "## Libraries\n",
    "* Pandas was used to create and handle dataframes.\n",
    "* urlopen was used to make web requests."
   ]
  },
  {
   "cell_type": "markdown",
   "id": "5ef13bdf",
   "metadata": {},
   "source": [
    "## Code"
   ]
  },
  {
   "cell_type": "markdown",
   "id": "d2741b4a",
   "metadata": {},
   "source": [
    "* The first dataset that contains the Hot 100's is pulled in the cell below."
   ]
  },
  {
   "cell_type": "code",
   "execution_count": 1,
   "id": "610a414b",
   "metadata": {},
   "outputs": [
    {
     "data": {
      "text/html": [
       "<div>\n",
       "<style scoped>\n",
       "    .dataframe tbody tr th:only-of-type {\n",
       "        vertical-align: middle;\n",
       "    }\n",
       "\n",
       "    .dataframe tbody tr th {\n",
       "        vertical-align: top;\n",
       "    }\n",
       "\n",
       "    .dataframe thead th {\n",
       "        text-align: right;\n",
       "    }\n",
       "</style>\n",
       "<table border=\"1\" class=\"dataframe\">\n",
       "  <thead>\n",
       "    <tr style=\"text-align: right;\">\n",
       "      <th></th>\n",
       "      <th>date</th>\n",
       "      <th>rank</th>\n",
       "      <th>song</th>\n",
       "      <th>artist</th>\n",
       "      <th>last-week</th>\n",
       "      <th>peak-rank</th>\n",
       "      <th>weeks-on-board</th>\n",
       "      <th>rankimportance</th>\n",
       "    </tr>\n",
       "  </thead>\n",
       "  <tbody>\n",
       "    <tr>\n",
       "      <th>0</th>\n",
       "      <td>2021-11-06</td>\n",
       "      <td>1</td>\n",
       "      <td>Easy On Me</td>\n",
       "      <td>Adele</td>\n",
       "      <td>1.0</td>\n",
       "      <td>1</td>\n",
       "      <td>3</td>\n",
       "      <td>100</td>\n",
       "    </tr>\n",
       "    <tr>\n",
       "      <th>1</th>\n",
       "      <td>2021-11-06</td>\n",
       "      <td>2</td>\n",
       "      <td>Stay</td>\n",
       "      <td>The Kid LAROI &amp; Justin Bieber</td>\n",
       "      <td>2.0</td>\n",
       "      <td>1</td>\n",
       "      <td>16</td>\n",
       "      <td>99</td>\n",
       "    </tr>\n",
       "    <tr>\n",
       "      <th>2</th>\n",
       "      <td>2021-11-06</td>\n",
       "      <td>3</td>\n",
       "      <td>Industry Baby</td>\n",
       "      <td>Lil Nas X &amp; Jack Harlow</td>\n",
       "      <td>3.0</td>\n",
       "      <td>1</td>\n",
       "      <td>14</td>\n",
       "      <td>98</td>\n",
       "    </tr>\n",
       "    <tr>\n",
       "      <th>3</th>\n",
       "      <td>2021-11-06</td>\n",
       "      <td>4</td>\n",
       "      <td>Fancy Like</td>\n",
       "      <td>Walker Hayes</td>\n",
       "      <td>4.0</td>\n",
       "      <td>3</td>\n",
       "      <td>19</td>\n",
       "      <td>97</td>\n",
       "    </tr>\n",
       "    <tr>\n",
       "      <th>4</th>\n",
       "      <td>2021-11-06</td>\n",
       "      <td>5</td>\n",
       "      <td>Bad Habits</td>\n",
       "      <td>Ed Sheeran</td>\n",
       "      <td>5.0</td>\n",
       "      <td>2</td>\n",
       "      <td>18</td>\n",
       "      <td>96</td>\n",
       "    </tr>\n",
       "  </tbody>\n",
       "</table>\n",
       "</div>"
      ],
      "text/plain": [
       "         date  rank           song                         artist  last-week  \\\n",
       "0  2021-11-06     1     Easy On Me                          Adele        1.0   \n",
       "1  2021-11-06     2           Stay  The Kid LAROI & Justin Bieber        2.0   \n",
       "2  2021-11-06     3  Industry Baby        Lil Nas X & Jack Harlow        3.0   \n",
       "3  2021-11-06     4     Fancy Like                   Walker Hayes        4.0   \n",
       "4  2021-11-06     5     Bad Habits                     Ed Sheeran        5.0   \n",
       "\n",
       "   peak-rank  weeks-on-board  rankimportance  \n",
       "0          1               3             100  \n",
       "1          1              16              99  \n",
       "2          1              14              98  \n",
       "3          3              19              97  \n",
       "4          2              18              96  "
      ]
     },
     "execution_count": 1,
     "metadata": {},
     "output_type": "execute_result"
    }
   ],
   "source": [
    "import pandas as ps\n",
    "from urllib.request import urlopen\n",
    "import matplotlib.pyplot as plt\n",
    "url = \"https://raw.githubusercontent.com/micybusy/sketch/main/charts.csv\"\n",
    "with urlopen(url) as f:\n",
    "    content = ps.read_csv(url, encoding = \"utf-8\")\n",
    "content[\"rankimportance\"]=101-content[\"rank\"]\n",
    "content.head()"
   ]
  },
  {
   "cell_type": "markdown",
   "id": "62438743",
   "metadata": {},
   "source": [
    "* A new dataframe, from the one above, is derived, that contains the dates of each song with a seperator. This is done to locate each year as a year for the Grammy is the days between two consecutive Novembers."
   ]
  },
  {
   "cell_type": "code",
   "execution_count": 2,
   "id": "0bedd87e",
   "metadata": {},
   "outputs": [
    {
     "data": {
      "text/html": [
       "<div>\n",
       "<style scoped>\n",
       "    .dataframe tbody tr th:only-of-type {\n",
       "        vertical-align: middle;\n",
       "    }\n",
       "\n",
       "    .dataframe tbody tr th {\n",
       "        vertical-align: top;\n",
       "    }\n",
       "\n",
       "    .dataframe thead th {\n",
       "        text-align: right;\n",
       "    }\n",
       "</style>\n",
       "<table border=\"1\" class=\"dataframe\">\n",
       "  <thead>\n",
       "    <tr style=\"text-align: right;\">\n",
       "      <th></th>\n",
       "      <th>year</th>\n",
       "      <th>month</th>\n",
       "      <th>day</th>\n",
       "    </tr>\n",
       "  </thead>\n",
       "  <tbody>\n",
       "    <tr>\n",
       "      <th>0</th>\n",
       "      <td>2021</td>\n",
       "      <td>11</td>\n",
       "      <td>6</td>\n",
       "    </tr>\n",
       "    <tr>\n",
       "      <th>1</th>\n",
       "      <td>2021</td>\n",
       "      <td>11</td>\n",
       "      <td>6</td>\n",
       "    </tr>\n",
       "    <tr>\n",
       "      <th>2</th>\n",
       "      <td>2021</td>\n",
       "      <td>11</td>\n",
       "      <td>6</td>\n",
       "    </tr>\n",
       "    <tr>\n",
       "      <th>3</th>\n",
       "      <td>2021</td>\n",
       "      <td>11</td>\n",
       "      <td>6</td>\n",
       "    </tr>\n",
       "    <tr>\n",
       "      <th>4</th>\n",
       "      <td>2021</td>\n",
       "      <td>11</td>\n",
       "      <td>6</td>\n",
       "    </tr>\n",
       "  </tbody>\n",
       "</table>\n",
       "</div>"
      ],
      "text/plain": [
       "   year  month  day\n",
       "0  2021     11    6\n",
       "1  2021     11    6\n",
       "2  2021     11    6\n",
       "3  2021     11    6\n",
       "4  2021     11    6"
      ]
     },
     "execution_count": 2,
     "metadata": {},
     "output_type": "execute_result"
    }
   ],
   "source": [
    "date=content['date'].str.split('-', expand=True)\n",
    "date.rename(columns = {0:'year',1:'month',2:'day'}, inplace = True)\n",
    "date[\"year\"] = date.year.astype('int')\n",
    "date[\"month\"] = date.month.astype('int')\n",
    "date[\"day\"] = date.day.astype('int')\n",
    "content[\"year\"]=date[\"year\"]; content[\"month\"]=date[\"month\"];\n",
    "content.loc[(content[\"month\"]>9),'year']=date['year']+1\n",
    "date.head()"
   ]
  },
  {
   "cell_type": "markdown",
   "id": "8b4a7ad7",
   "metadata": {},
   "source": [
    "## ALTTAKİ HÜCREDE NE YAPILDIĞI ANLATILACAK"
   ]
  },
  {
   "cell_type": "code",
   "execution_count": 3,
   "id": "bc04f1c3",
   "metadata": {},
   "outputs": [],
   "source": [
    "content['sumimportance'] = content.groupby([\"artist\", \"song\",'year'])['rankimportance'].transform('sum')\n",
    "content=content.sort_values(\"sumimportance\", ascending = False)\n",
    "content['rank_1']=0\n",
    "content[\"rank_1\"]=content[\"rank\"].copy()\n",
    "content[\"rank_1\"]=content[\"rank_1\"].apply(lambda x:  0 if x>1 else 1)\n",
    "content['rank_1_sum'] = content.groupby([\"artist\", \"song\",'year'])['rank_1'].transform('sum')\n",
    "content=content.sort_values(\"rank_1_sum\", ascending = False)"
   ]
  },
  {
   "cell_type": "markdown",
   "id": "687ed9e9",
   "metadata": {},
   "source": [
    "## ALTTAKİ HÜCREDE NE YAPILDIĞI ANLATILACAK"
   ]
  },
  {
   "cell_type": "code",
   "execution_count": 4,
   "id": "288a26db",
   "metadata": {},
   "outputs": [],
   "source": [
    "table=ps.DataFrame(content.groupby(['year','song','artist','sumimportance','rank_1_sum']).size().reset_index().rename(columns={0:'count'}))\n",
    "table['ratio']=table['sumimportance']/table['count']\n",
    "table=table.sort_values(\"sumimportance\", ascending = False)"
   ]
  },
  {
   "cell_type": "markdown",
   "id": "86e5ff2d",
   "metadata": {},
   "source": [
    "## ALTTAKİ HÜCREDE NE YAPILDIĞI ANLATILACAK"
   ]
  },
  {
   "cell_type": "code",
   "execution_count": 5,
   "id": "4e9c0d43",
   "metadata": {},
   "outputs": [],
   "source": [
    "tabledate=ps.DataFrame(content.groupby(['year',\"date\"]).size().reset_index().rename(columns={0:'count'}))\n",
    "tabledate=tabledate.drop([\"count\"],axis=1)\n",
    "tabledatex=ps.DataFrame(tabledate.groupby(['year']).size().reset_index().rename(columns={0:'yeartotalweek'}))"
   ]
  },
  {
   "cell_type": "markdown",
   "id": "efe08fa5",
   "metadata": {},
   "source": [
    "## ALTTAKİ HÜCREDE NE YAPILDIĞI ANLATILACAK"
   ]
  },
  {
   "cell_type": "code",
   "execution_count": 6,
   "id": "84e24dca",
   "metadata": {},
   "outputs": [],
   "source": [
    "tabledate[\"week\"]=0\n",
    "b=0\n",
    "for i in range(65):\n",
    "    a=tabledatex.iloc[i,1]\n",
    "    for j in range(a):\n",
    "         tabledate.iloc[j+b,2]=j+1\n",
    "    b=b+a"
   ]
  },
  {
   "cell_type": "markdown",
   "id": "803cc6ce",
   "metadata": {},
   "source": [
    "## ALTTAKİ HÜCREDE NE YAPILDIĞI ANLATILACAK"
   ]
  },
  {
   "cell_type": "code",
   "execution_count": 7,
   "id": "0e52999e",
   "metadata": {},
   "outputs": [],
   "source": [
    "tabledate=tabledate.drop([\"year\"],axis=1)\n",
    "content=content.merge(tabledate,on=['date'], how='left')\n",
    "content=content.merge(tabledatex,on=['year'], how='left')"
   ]
  },
  {
   "cell_type": "markdown",
   "id": "c4db485d",
   "metadata": {},
   "source": [
    "## ALTTAKİ HÜCREDE NE YAPILDIĞI ANLATILACAK"
   ]
  },
  {
   "cell_type": "code",
   "execution_count": 8,
   "id": "0c0b1bd1",
   "metadata": {},
   "outputs": [],
   "source": [
    "content=content.sort_values([\"date\",\"rank\"], ascending = True)\n",
    "content[\"first_test\"] = content.groupby(['year','song','artist'])[\"week\"].transform(\"first\")\n",
    "\n",
    "table=ps.DataFrame(content.groupby(['year','song','artist','sumimportance','rank_1_sum','yeartotalweek','first_test']).size().reset_index().rename(columns={0:'count'}))\n",
    "table[\"debut\"]=table[\"yeartotalweek\"]-table[\"first_test\"]+1\n",
    "table['ratio']=table['sumimportance']/table['debut']\n",
    "table=table.sort_values(\"ratio\", ascending = False)"
   ]
  },
  {
   "cell_type": "markdown",
   "id": "07ccf4ed",
   "metadata": {},
   "source": [
    "* The function below takes two integers as its argument: the first one indicates the year that is to be filtered in the original dataset, and the latter indicates how many items from the refined data is to be shown. It basically takes the original data and returns the sorted versions with respect to the columns that we are interested in."
   ]
  },
  {
   "cell_type": "code",
   "execution_count": 9,
   "id": "714c97df",
   "metadata": {},
   "outputs": [],
   "source": [
    "def gettables(y, lines):\n",
    "    tablex=table.loc[table[\"year\"]==y]\n",
    "    tablex=tablex.sort_values(\"ratio\", ascending = False)\n",
    "    tabley=tablex.sort_values(\"sumimportance\", ascending = False)\n",
    "    tablez = tablex.sort_values(\"rank_1_sum\", ascending = False)\n",
    "    tablex = tablex.reset_index();\n",
    "    tabley = tabley.reset_index();\n",
    "    tablez = tablez.reset_index();\n",
    "    return {\"ratio\":tablex[:lines], \"sumimp\":tabley[:lines], \"sum1\": tablez[:lines]}"
   ]
  },
  {
   "cell_type": "markdown",
   "id": "bea8bce1",
   "metadata": {},
   "source": [
    "### Example"
   ]
  },
  {
   "cell_type": "code",
   "execution_count": 10,
   "id": "9493eebf",
   "metadata": {},
   "outputs": [
    {
     "data": {
      "text/plain": [
       "{'ratio':    index  year          song                            artist  sumimportance  \\\n",
       " 0  34087  2019      Senorita     Shawn Mendes & Camila Cabello           1277   \n",
       " 1  33625  2019       Bad Guy                     Billie Eilish           2423   \n",
       " 2  33836  2019  I Don't Care        Ed Sheeran & Justin Bieber           1803   \n",
       " 3  33689  2019       Circles                       Post Malone            283   \n",
       " 4  33797  2019      Goodbyes  Post Malone Featuring Young Thug           1026   \n",
       " \n",
       "    rank_1_sum  yeartotalweek  first_test  count  debut      ratio  \n",
       " 0           1             52          40     13     13  98.230769  \n",
       " 1           1             52          28     25     25  96.920000  \n",
       " 2           0             52          34     19     19  94.894737  \n",
       " 3           0             52          50      3      3  94.333333  \n",
       " 4           0             52          42     11     11  93.272727  ,\n",
       " 'sumimp':    index  year                                           song  \\\n",
       " 0  34228  2019                                     Without Me   \n",
       " 1  34130  2019  Sunflower (Spider-Man: Into The Spider-Verse)   \n",
       " 2  33804  2019                                        Happier   \n",
       " 3  34095  2019                                     Sicko Mode   \n",
       " 4  33816  2019                                     High Hopes   \n",
       " \n",
       "                    artist  sumimportance  rank_1_sum  yeartotalweek  \\\n",
       " 0                  Halsey           4480           2             52   \n",
       " 1  Post Malone & Swae Lee           4441           1             52   \n",
       " 2   Marshmello & Bastille           4198           0             52   \n",
       " 3            Travis Scott           3755           1             52   \n",
       " 4     Panic! At The Disco           3748           0             52   \n",
       " \n",
       "    first_test  count  debut      ratio  \n",
       " 0           3     50     50  89.600000  \n",
       " 1           5     48     48  92.520833  \n",
       " 2           1     47     52  80.730769  \n",
       " 3           1     45     52  72.211538  \n",
       " 4           1     45     52  72.076923  ,\n",
       " 'sum1':    index  year            song                               artist  \\\n",
       " 0  34000  2019   Old Town Road  Lil Nas X Featuring Billy Ray Cyrus   \n",
       " 1  33587  2019         7 Rings                        Ariana Grande   \n",
       " 2  34151  2019   Thank U, Next                        Ariana Grande   \n",
       " 3  33781  2019  Girls Like You           Maroon 5 Featuring Cardi B   \n",
       " 4  34186  2019     Truth Hurts                                Lizzo   \n",
       " \n",
       "    sumimportance  rank_1_sum  yeartotalweek  first_test  count  debut  \\\n",
       " 0           2691          19             52          24     29     29   \n",
       " 1           2863           8             52          18     33     35   \n",
       " 2           2436           7             52           7     28     46   \n",
       " 3           3069           6             52           1     35     52   \n",
       " 4           1758           4             52          33     20     20   \n",
       " \n",
       "        ratio  \n",
       " 0  92.793103  \n",
       " 1  81.800000  \n",
       " 2  52.956522  \n",
       " 3  59.019231  \n",
       " 4  87.900000  }"
      ]
     },
     "execution_count": 10,
     "metadata": {},
     "output_type": "execute_result"
    }
   ],
   "source": [
    "gettables(2019, 5)"
   ]
  },
  {
   "cell_type": "markdown",
   "id": "a67b908e",
   "metadata": {},
   "source": [
    "* The function below also takes two integers as its argument with the exact logic above. It also calls the function above, takes its outputs and manipulates them. That is, each row of the important columns of the outputs of the function above is multiplied by a coefficient. The function then returns the multiplied versions."
   ]
  },
  {
   "cell_type": "code",
   "execution_count": 11,
   "id": "83239e8a",
   "metadata": {},
   "outputs": [],
   "source": [
    "def assign_weight(year, lines):\n",
    "    tablo = gettables(year, lines)[\"ratio\"]\n",
    "    tablo1 = gettables(year, lines)[\"sumimp\"]\n",
    "    tablo2 = gettables(year, lines)[\"sum1\"]\n",
    "    tablo[\"value\"] = 0\n",
    "    tablo1[\"value\"] = 0\n",
    "    tablo2[\"value\"] = 0\n",
    "    for i in range(len(tablo)):\n",
    "        tablo[\"value\"][i] = len(tablo) - i\n",
    "        tablo1[\"value\"][i] = len(tablo) - i\n",
    "        tablo2[\"value\"][i] = len(tablo) - i\n",
    "        \n",
    "    tablo[\"value\"]=ps.to_numeric(tablo[\"value\"])\n",
    "    tablo[\"value\"] = tablo[\"value\"]*0.25\n",
    "    tablo1[\"value\"]=ps.to_numeric(tablo1[\"value\"])\n",
    "    tablo1[\"value\"] = tablo1[\"value\"]*0.55\n",
    "    tablo2[\"value\"]=ps.to_numeric(tablo2[\"value\"])\n",
    "    tablo2[\"value\"] = tablo2[\"value\"]*0.2\n",
    "    return {\"ratio\":tablo[:lines], \"sumimp\":tablo1[:lines], \"sum1\": tablo2[:lines]}"
   ]
  },
  {
   "cell_type": "markdown",
   "id": "ce093eb3",
   "metadata": {},
   "source": [
    "### Example"
   ]
  },
  {
   "cell_type": "code",
   "execution_count": 12,
   "id": "2c66716c",
   "metadata": {},
   "outputs": [
    {
     "data": {
      "text/plain": [
       "{'ratio':    index  year          song                            artist  sumimportance  \\\n",
       " 0  34087  2019      Senorita     Shawn Mendes & Camila Cabello           1277   \n",
       " 1  33625  2019       Bad Guy                     Billie Eilish           2423   \n",
       " 2  33836  2019  I Don't Care        Ed Sheeran & Justin Bieber           1803   \n",
       " 3  33689  2019       Circles                       Post Malone            283   \n",
       " 4  33797  2019      Goodbyes  Post Malone Featuring Young Thug           1026   \n",
       " \n",
       "    rank_1_sum  yeartotalweek  first_test  count  debut      ratio  value  \n",
       " 0           1             52          40     13     13  98.230769   1.25  \n",
       " 1           1             52          28     25     25  96.920000   1.00  \n",
       " 2           0             52          34     19     19  94.894737   0.75  \n",
       " 3           0             52          50      3      3  94.333333   0.50  \n",
       " 4           0             52          42     11     11  93.272727   0.25  ,\n",
       " 'sumimp':    index  year                                           song  \\\n",
       " 0  34228  2019                                     Without Me   \n",
       " 1  34130  2019  Sunflower (Spider-Man: Into The Spider-Verse)   \n",
       " 2  33804  2019                                        Happier   \n",
       " 3  34095  2019                                     Sicko Mode   \n",
       " 4  33816  2019                                     High Hopes   \n",
       " \n",
       "                    artist  sumimportance  rank_1_sum  yeartotalweek  \\\n",
       " 0                  Halsey           4480           2             52   \n",
       " 1  Post Malone & Swae Lee           4441           1             52   \n",
       " 2   Marshmello & Bastille           4198           0             52   \n",
       " 3            Travis Scott           3755           1             52   \n",
       " 4     Panic! At The Disco           3748           0             52   \n",
       " \n",
       "    first_test  count  debut      ratio  value  \n",
       " 0           3     50     50  89.600000   2.75  \n",
       " 1           5     48     48  92.520833   2.20  \n",
       " 2           1     47     52  80.730769   1.65  \n",
       " 3           1     45     52  72.211538   1.10  \n",
       " 4           1     45     52  72.076923   0.55  ,\n",
       " 'sum1':    index  year            song                               artist  \\\n",
       " 0  34000  2019   Old Town Road  Lil Nas X Featuring Billy Ray Cyrus   \n",
       " 1  33587  2019         7 Rings                        Ariana Grande   \n",
       " 2  34151  2019   Thank U, Next                        Ariana Grande   \n",
       " 3  33781  2019  Girls Like You           Maroon 5 Featuring Cardi B   \n",
       " 4  34186  2019     Truth Hurts                                Lizzo   \n",
       " \n",
       "    sumimportance  rank_1_sum  yeartotalweek  first_test  count  debut  \\\n",
       " 0           2691          19             52          24     29     29   \n",
       " 1           2863           8             52          18     33     35   \n",
       " 2           2436           7             52           7     28     46   \n",
       " 3           3069           6             52           1     35     52   \n",
       " 4           1758           4             52          33     20     20   \n",
       " \n",
       "        ratio  value  \n",
       " 0  92.793103    1.0  \n",
       " 1  81.800000    0.8  \n",
       " 2  52.956522    0.6  \n",
       " 3  59.019231    0.4  \n",
       " 4  87.900000    0.2  }"
      ]
     },
     "execution_count": 12,
     "metadata": {},
     "output_type": "execute_result"
    }
   ],
   "source": [
    "%%capture --no-display\n",
    "assign_weight(2019,5)"
   ]
  },
  {
   "cell_type": "markdown",
   "id": "dcdfb0b7",
   "metadata": {},
   "source": [
    "The function below sums the values obtained from the function above to find a song's total weight, then assigns each song its weight."
   ]
  },
  {
   "cell_type": "code",
   "execution_count": 13,
   "id": "65752fe8",
   "metadata": {},
   "outputs": [],
   "source": [
    "def sum_weight(year, lines):\n",
    "    tables = assign_weight(year, lines)\n",
    "    [tablo, tablo1, tablo2] = [tables[\"ratio\"], tables[\"sumimp\"], tables[\"sum1\"]]\n",
    "    evaluate = gettables(year, lines)[\"sumimp\"]\n",
    "    evaluate = evaluate.sort_values(by = \"sumimportance\", ascending = False)\n",
    "    evaluate[\"weight\"] = float(0)\n",
    "    for i in range(len(evaluate)):\n",
    "        for j in range(len(tablo)):\n",
    "            if evaluate[\"song\"][i] == tablo[\"song\"][j]:\n",
    "                evaluate[\"weight\"][i] += float(tablo[\"value\"][j])\n",
    "        for k in range(len(tablo1)):\n",
    "            if evaluate[\"song\"][i] == tablo1[\"song\"][k]:\n",
    "                evaluate[\"weight\"][i] += float(tablo1[\"value\"][k])\n",
    "        for l in range(len(tablo2)):\n",
    "            if evaluate[\"song\"][i] == tablo2[\"song\"][l]:\n",
    "                evaluate[\"weight\"][i] += float(tablo2[\"value\"][l])\n",
    "    evaluate = evaluate.reset_index(drop = True)\n",
    "    return evaluate[:lines]"
   ]
  },
  {
   "cell_type": "markdown",
   "id": "cdbf353c",
   "metadata": {},
   "source": [
    "### Example"
   ]
  },
  {
   "cell_type": "code",
   "execution_count": 14,
   "id": "5246691a",
   "metadata": {},
   "outputs": [
    {
     "data": {
      "text/html": [
       "<div>\n",
       "<style scoped>\n",
       "    .dataframe tbody tr th:only-of-type {\n",
       "        vertical-align: middle;\n",
       "    }\n",
       "\n",
       "    .dataframe tbody tr th {\n",
       "        vertical-align: top;\n",
       "    }\n",
       "\n",
       "    .dataframe thead th {\n",
       "        text-align: right;\n",
       "    }\n",
       "</style>\n",
       "<table border=\"1\" class=\"dataframe\">\n",
       "  <thead>\n",
       "    <tr style=\"text-align: right;\">\n",
       "      <th></th>\n",
       "      <th>index</th>\n",
       "      <th>year</th>\n",
       "      <th>song</th>\n",
       "      <th>artist</th>\n",
       "      <th>sumimportance</th>\n",
       "      <th>rank_1_sum</th>\n",
       "      <th>yeartotalweek</th>\n",
       "      <th>first_test</th>\n",
       "      <th>count</th>\n",
       "      <th>debut</th>\n",
       "      <th>ratio</th>\n",
       "      <th>weight</th>\n",
       "    </tr>\n",
       "  </thead>\n",
       "  <tbody>\n",
       "    <tr>\n",
       "      <th>0</th>\n",
       "      <td>34228</td>\n",
       "      <td>2019</td>\n",
       "      <td>Without Me</td>\n",
       "      <td>Halsey</td>\n",
       "      <td>4480</td>\n",
       "      <td>2</td>\n",
       "      <td>52</td>\n",
       "      <td>3</td>\n",
       "      <td>50</td>\n",
       "      <td>50</td>\n",
       "      <td>89.600000</td>\n",
       "      <td>2.75</td>\n",
       "    </tr>\n",
       "    <tr>\n",
       "      <th>1</th>\n",
       "      <td>34130</td>\n",
       "      <td>2019</td>\n",
       "      <td>Sunflower (Spider-Man: Into The Spider-Verse)</td>\n",
       "      <td>Post Malone &amp; Swae Lee</td>\n",
       "      <td>4441</td>\n",
       "      <td>1</td>\n",
       "      <td>52</td>\n",
       "      <td>5</td>\n",
       "      <td>48</td>\n",
       "      <td>48</td>\n",
       "      <td>92.520833</td>\n",
       "      <td>2.20</td>\n",
       "    </tr>\n",
       "    <tr>\n",
       "      <th>2</th>\n",
       "      <td>33804</td>\n",
       "      <td>2019</td>\n",
       "      <td>Happier</td>\n",
       "      <td>Marshmello &amp; Bastille</td>\n",
       "      <td>4198</td>\n",
       "      <td>0</td>\n",
       "      <td>52</td>\n",
       "      <td>1</td>\n",
       "      <td>47</td>\n",
       "      <td>52</td>\n",
       "      <td>80.730769</td>\n",
       "      <td>1.65</td>\n",
       "    </tr>\n",
       "    <tr>\n",
       "      <th>3</th>\n",
       "      <td>34095</td>\n",
       "      <td>2019</td>\n",
       "      <td>Sicko Mode</td>\n",
       "      <td>Travis Scott</td>\n",
       "      <td>3755</td>\n",
       "      <td>1</td>\n",
       "      <td>52</td>\n",
       "      <td>1</td>\n",
       "      <td>45</td>\n",
       "      <td>52</td>\n",
       "      <td>72.211538</td>\n",
       "      <td>1.10</td>\n",
       "    </tr>\n",
       "    <tr>\n",
       "      <th>4</th>\n",
       "      <td>33816</td>\n",
       "      <td>2019</td>\n",
       "      <td>High Hopes</td>\n",
       "      <td>Panic! At The Disco</td>\n",
       "      <td>3748</td>\n",
       "      <td>0</td>\n",
       "      <td>52</td>\n",
       "      <td>1</td>\n",
       "      <td>45</td>\n",
       "      <td>52</td>\n",
       "      <td>72.076923</td>\n",
       "      <td>0.55</td>\n",
       "    </tr>\n",
       "  </tbody>\n",
       "</table>\n",
       "</div>"
      ],
      "text/plain": [
       "   index  year                                           song  \\\n",
       "0  34228  2019                                     Without Me   \n",
       "1  34130  2019  Sunflower (Spider-Man: Into The Spider-Verse)   \n",
       "2  33804  2019                                        Happier   \n",
       "3  34095  2019                                     Sicko Mode   \n",
       "4  33816  2019                                     High Hopes   \n",
       "\n",
       "                   artist  sumimportance  rank_1_sum  yeartotalweek  \\\n",
       "0                  Halsey           4480           2             52   \n",
       "1  Post Malone & Swae Lee           4441           1             52   \n",
       "2   Marshmello & Bastille           4198           0             52   \n",
       "3            Travis Scott           3755           1             52   \n",
       "4     Panic! At The Disco           3748           0             52   \n",
       "\n",
       "   first_test  count  debut      ratio  weight  \n",
       "0           3     50     50  89.600000    2.75  \n",
       "1           5     48     48  92.520833    2.20  \n",
       "2           1     47     52  80.730769    1.65  \n",
       "3           1     45     52  72.211538    1.10  \n",
       "4           1     45     52  72.076923    0.55  "
      ]
     },
     "execution_count": 14,
     "metadata": {},
     "output_type": "execute_result"
    }
   ],
   "source": [
    "%%capture --no-display\n",
    "sum_weight(2019, 5)"
   ]
  },
  {
   "cell_type": "markdown",
   "id": "c696a8a3",
   "metadata": {},
   "source": [
    "The function below takes the output of the function above and simply sorts it based on the \"weights\" column."
   ]
  },
  {
   "cell_type": "code",
   "execution_count": 15,
   "id": "3beb17fa",
   "metadata": {},
   "outputs": [],
   "source": [
    "def weight_sort(year, lines):\n",
    "    evaluate = sum_weight(year,lines)\n",
    "    evaluate = evaluate.sort_values(by = \"weight\", ascending = False)\n",
    "    evaluate = evaluate.reset_index(drop = True)\n",
    "    return evaluate"
   ]
  },
  {
   "cell_type": "markdown",
   "id": "47dbf52d",
   "metadata": {},
   "source": [
    "### Example"
   ]
  },
  {
   "cell_type": "code",
   "execution_count": 16,
   "id": "8ce2107a",
   "metadata": {},
   "outputs": [
    {
     "data": {
      "text/html": [
       "<div>\n",
       "<style scoped>\n",
       "    .dataframe tbody tr th:only-of-type {\n",
       "        vertical-align: middle;\n",
       "    }\n",
       "\n",
       "    .dataframe tbody tr th {\n",
       "        vertical-align: top;\n",
       "    }\n",
       "\n",
       "    .dataframe thead th {\n",
       "        text-align: right;\n",
       "    }\n",
       "</style>\n",
       "<table border=\"1\" class=\"dataframe\">\n",
       "  <thead>\n",
       "    <tr style=\"text-align: right;\">\n",
       "      <th></th>\n",
       "      <th>index</th>\n",
       "      <th>year</th>\n",
       "      <th>song</th>\n",
       "      <th>artist</th>\n",
       "      <th>sumimportance</th>\n",
       "      <th>rank_1_sum</th>\n",
       "      <th>yeartotalweek</th>\n",
       "      <th>first_test</th>\n",
       "      <th>count</th>\n",
       "      <th>debut</th>\n",
       "      <th>ratio</th>\n",
       "      <th>weight</th>\n",
       "    </tr>\n",
       "  </thead>\n",
       "  <tbody>\n",
       "    <tr>\n",
       "      <th>0</th>\n",
       "      <td>34228</td>\n",
       "      <td>2019</td>\n",
       "      <td>Without Me</td>\n",
       "      <td>Halsey</td>\n",
       "      <td>4480</td>\n",
       "      <td>2</td>\n",
       "      <td>52</td>\n",
       "      <td>3</td>\n",
       "      <td>50</td>\n",
       "      <td>50</td>\n",
       "      <td>89.600000</td>\n",
       "      <td>2.75</td>\n",
       "    </tr>\n",
       "    <tr>\n",
       "      <th>1</th>\n",
       "      <td>34130</td>\n",
       "      <td>2019</td>\n",
       "      <td>Sunflower (Spider-Man: Into The Spider-Verse)</td>\n",
       "      <td>Post Malone &amp; Swae Lee</td>\n",
       "      <td>4441</td>\n",
       "      <td>1</td>\n",
       "      <td>52</td>\n",
       "      <td>5</td>\n",
       "      <td>48</td>\n",
       "      <td>48</td>\n",
       "      <td>92.520833</td>\n",
       "      <td>2.20</td>\n",
       "    </tr>\n",
       "    <tr>\n",
       "      <th>2</th>\n",
       "      <td>33804</td>\n",
       "      <td>2019</td>\n",
       "      <td>Happier</td>\n",
       "      <td>Marshmello &amp; Bastille</td>\n",
       "      <td>4198</td>\n",
       "      <td>0</td>\n",
       "      <td>52</td>\n",
       "      <td>1</td>\n",
       "      <td>47</td>\n",
       "      <td>52</td>\n",
       "      <td>80.730769</td>\n",
       "      <td>1.65</td>\n",
       "    </tr>\n",
       "    <tr>\n",
       "      <th>3</th>\n",
       "      <td>34095</td>\n",
       "      <td>2019</td>\n",
       "      <td>Sicko Mode</td>\n",
       "      <td>Travis Scott</td>\n",
       "      <td>3755</td>\n",
       "      <td>1</td>\n",
       "      <td>52</td>\n",
       "      <td>1</td>\n",
       "      <td>45</td>\n",
       "      <td>52</td>\n",
       "      <td>72.211538</td>\n",
       "      <td>1.10</td>\n",
       "    </tr>\n",
       "    <tr>\n",
       "      <th>4</th>\n",
       "      <td>33816</td>\n",
       "      <td>2019</td>\n",
       "      <td>High Hopes</td>\n",
       "      <td>Panic! At The Disco</td>\n",
       "      <td>3748</td>\n",
       "      <td>0</td>\n",
       "      <td>52</td>\n",
       "      <td>1</td>\n",
       "      <td>45</td>\n",
       "      <td>52</td>\n",
       "      <td>72.076923</td>\n",
       "      <td>0.55</td>\n",
       "    </tr>\n",
       "  </tbody>\n",
       "</table>\n",
       "</div>"
      ],
      "text/plain": [
       "   index  year                                           song  \\\n",
       "0  34228  2019                                     Without Me   \n",
       "1  34130  2019  Sunflower (Spider-Man: Into The Spider-Verse)   \n",
       "2  33804  2019                                        Happier   \n",
       "3  34095  2019                                     Sicko Mode   \n",
       "4  33816  2019                                     High Hopes   \n",
       "\n",
       "                   artist  sumimportance  rank_1_sum  yeartotalweek  \\\n",
       "0                  Halsey           4480           2             52   \n",
       "1  Post Malone & Swae Lee           4441           1             52   \n",
       "2   Marshmello & Bastille           4198           0             52   \n",
       "3            Travis Scott           3755           1             52   \n",
       "4     Panic! At The Disco           3748           0             52   \n",
       "\n",
       "   first_test  count  debut      ratio  weight  \n",
       "0           3     50     50  89.600000    2.75  \n",
       "1           5     48     48  92.520833    2.20  \n",
       "2           1     47     52  80.730769    1.65  \n",
       "3           1     45     52  72.211538    1.10  \n",
       "4           1     45     52  72.076923    0.55  "
      ]
     },
     "execution_count": 16,
     "metadata": {},
     "output_type": "execute_result"
    }
   ],
   "source": [
    "%%capture --no-display\n",
    "weight_sort(2019,5)"
   ]
  },
  {
   "cell_type": "markdown",
   "id": "220f7d01",
   "metadata": {},
   "source": [
    "We then introduce the dataset that contains the Grammy nominees from 1990 to 2022."
   ]
  },
  {
   "cell_type": "code",
   "execution_count": 17,
   "id": "6ec3c0f3",
   "metadata": {},
   "outputs": [],
   "source": [
    "link = \"https://raw.githubusercontent.com/micybusy/sketch/main/grammies.csv\"\n",
    "with urlopen(link) as f:\n",
    "    grammies = ps.read_csv(f, encoding = \"utf-8\")\n",
    "grammies = grammies.to_dict()\n",
    "grammies_fix = {\"year\": grammies[\"Year[I]\"], \"song\": grammies[\"Record\"], \"artist\": grammies[\"Artist(s)\"]}\n",
    "grammies = ps.DataFrame(grammies_fix)"
   ]
  },
  {
   "cell_type": "markdown",
   "id": "b93fa9ff",
   "metadata": {},
   "source": [
    "The function below lets us display the items of the year that we wish to be displayed."
   ]
  },
  {
   "cell_type": "code",
   "execution_count": 18,
   "id": "177c7f3b",
   "metadata": {},
   "outputs": [],
   "source": [
    "def annual_nominee(year):\n",
    "    new_df = []\n",
    "    for i in range(len(grammies)):\n",
    "        if grammies.iloc[i][0] == year:\n",
    "            new_df.append(grammies.iloc[i])\n",
    "    new_df = ps.DataFrame(new_df)\n",
    "    new_df = new_df.reset_index(drop = True)\n",
    "    return new_df"
   ]
  },
  {
   "cell_type": "markdown",
   "id": "7f74a98e",
   "metadata": {},
   "source": [
    "### Example"
   ]
  },
  {
   "cell_type": "code",
   "execution_count": 19,
   "id": "3935cb0c",
   "metadata": {},
   "outputs": [
    {
     "data": {
      "text/html": [
       "<div>\n",
       "<style scoped>\n",
       "    .dataframe tbody tr th:only-of-type {\n",
       "        vertical-align: middle;\n",
       "    }\n",
       "\n",
       "    .dataframe tbody tr th {\n",
       "        vertical-align: top;\n",
       "    }\n",
       "\n",
       "    .dataframe thead th {\n",
       "        text-align: right;\n",
       "    }\n",
       "</style>\n",
       "<table border=\"1\" class=\"dataframe\">\n",
       "  <thead>\n",
       "    <tr style=\"text-align: right;\">\n",
       "      <th></th>\n",
       "      <th>year</th>\n",
       "      <th>song</th>\n",
       "      <th>artist</th>\n",
       "    </tr>\n",
       "  </thead>\n",
       "  <tbody>\n",
       "    <tr>\n",
       "      <th>0</th>\n",
       "      <td>2015</td>\n",
       "      <td>Stay with Me (Darkchild Version)</td>\n",
       "      <td>Sam Smith</td>\n",
       "    </tr>\n",
       "    <tr>\n",
       "      <th>1</th>\n",
       "      <td>2015</td>\n",
       "      <td>All About That Bass</td>\n",
       "      <td>Meghan Trainor</td>\n",
       "    </tr>\n",
       "    <tr>\n",
       "      <th>2</th>\n",
       "      <td>2015</td>\n",
       "      <td>Chandelier</td>\n",
       "      <td>Sia</td>\n",
       "    </tr>\n",
       "    <tr>\n",
       "      <th>3</th>\n",
       "      <td>2015</td>\n",
       "      <td>Fancy</td>\n",
       "      <td>Iggy Azalea featuring Charli XCX</td>\n",
       "    </tr>\n",
       "    <tr>\n",
       "      <th>4</th>\n",
       "      <td>2015</td>\n",
       "      <td>Shake It Off</td>\n",
       "      <td>Taylor Swift</td>\n",
       "    </tr>\n",
       "  </tbody>\n",
       "</table>\n",
       "</div>"
      ],
      "text/plain": [
       "   year                              song                            artist\n",
       "0  2015  Stay with Me (Darkchild Version)                         Sam Smith\n",
       "1  2015               All About That Bass                    Meghan Trainor\n",
       "2  2015                        Chandelier                               Sia\n",
       "3  2015                             Fancy  Iggy Azalea featuring Charli XCX\n",
       "4  2015                      Shake It Off                      Taylor Swift"
      ]
     },
     "execution_count": 19,
     "metadata": {},
     "output_type": "execute_result"
    }
   ],
   "source": [
    "annual_nominee(2015)"
   ]
  },
  {
   "cell_type": "markdown",
   "id": "da7e2cf6",
   "metadata": {},
   "source": [
    "The function below, finally, lets us compare a year's most succesful songs to that year's Grammy nominees. It then calculates how many of the nominees it attained and gives a clean percentage on the correctness of its guesses."
   ]
  },
  {
   "cell_type": "code",
   "execution_count": 20,
   "id": "f7c3a66c",
   "metadata": {},
   "outputs": [],
   "source": [
    "def compare(x, lines):\n",
    "    grammy_nominees = annual_nominee(x)\n",
    "    annual_success = weight_sort(x-1, lines)\n",
    "    a = 0\n",
    "    for i in range(lines):\n",
    "        if annual_success[\"song\"][i] in list(grammy_nominees[\"song\"]):\n",
    "            a+=1\n",
    "    percentage = (a/(len(grammy_nominees)))*100\n",
    "    return percentage"
   ]
  },
  {
   "cell_type": "markdown",
   "id": "977e3bfc",
   "metadata": {},
   "source": [
    "### Example"
   ]
  },
  {
   "cell_type": "code",
   "execution_count": 21,
   "id": "0cc67801",
   "metadata": {},
   "outputs": [
    {
     "data": {
      "text/plain": [
       "40.0"
      ]
     },
     "execution_count": 21,
     "metadata": {},
     "output_type": "execute_result"
    }
   ],
   "source": [
    "%%capture --no-display\n",
    "compare(2010,20)"
   ]
  },
  {
   "cell_type": "markdown",
   "id": "292f588a",
   "metadata": {},
   "source": [
    "## Graphical Representation\n",
    "\n",
    "The function below draws a graph of the correctness of our estimations on the whole interval. It takes an integer as its argument, which indicates how many items from the top of each year's estimation dataframe we pull search the nominees in. One can intuitively comprehend that the more items we take from those dataframes, the more correct our estimation percentage will be."
   ]
  },
  {
   "cell_type": "code",
   "execution_count": 33,
   "id": "bbdf3e1c",
   "metadata": {},
   "outputs": [],
   "source": [
    "def correctness(lines):\n",
    "    years =[]\n",
    "    percentages =[]\n",
    "    for i in range(1990, 2021):\n",
    "        years.append(i)\n",
    "        percentages.append(compare(i,lines))\n",
    "    plt.plot(years, percentages)\n",
    "    plt.title('Years and Correctness')\n",
    "    plt.xlabel('Year')\n",
    "    plt.ylabel('Percentage')\n",
    "    plt.show()"
   ]
  },
  {
   "cell_type": "markdown",
   "id": "fdb7fd05",
   "metadata": {},
   "source": [
    "#### 10 lines of estimation."
   ]
  },
  {
   "cell_type": "code",
   "execution_count": 34,
   "id": "8f2e6931",
   "metadata": {},
   "outputs": [
    {
     "data": {
      "image/png": "[encoded data removed]",
      "text/plain": [
       "<Figure size 432x288 with 1 Axes>"
      ]
     },
     "metadata": {
      "needs_background": "light"
     },
     "output_type": "display_data"
    }
   ],
   "source": [
    "%%capture --no-display\n",
    "correctness(10)"
   ]
  },
  {
   "cell_type": "markdown",
   "id": "88c966c5",
   "metadata": {},
   "source": [
    "#### 20 lines of estimation."
   ]
  },
  {
   "cell_type": "code",
   "execution_count": 35,
   "id": "61ad8b35",
   "metadata": {},
   "outputs": [
    {
     "data": {
      "image/png": "[encoded data removed]",
      "text/plain": [
       "<Figure size 432x288 with 1 Axes>"
      ]
     },
     "metadata": {
      "needs_background": "light"
     },
     "output_type": "display_data"
    }
   ],
   "source": [
    "%%capture --no-display\n",
    "correctness(20)"
   ]
  },
  {
   "cell_type": "markdown",
   "id": "6cf4d5ad",
   "metadata": {},
   "source": [
    "#### 30 lines of estimation."
   ]
  },
  {
   "cell_type": "code",
   "execution_count": 36,
   "id": "6cc9ae40",
   "metadata": {},
   "outputs": [
    {
     "data": {
      "image/png": "[encoded data removed]",
      "text/plain": [
       "<Figure size 432x288 with 1 Axes>"
      ]
     },
     "metadata": {
      "needs_background": "light"
     },
     "output_type": "display_data"
    }
   ],
   "source": [
    "%%capture --no-display\n",
    "correctness(30)"
   ]
  },
  {
   "cell_type": "markdown",
   "id": "4f5d1581",
   "metadata": {},
   "source": [
    "#### 50 lines of estimation."
   ]
  },
  {
   "cell_type": "code",
   "execution_count": 37,
   "id": "460e111f",
   "metadata": {},
   "outputs": [
    {
     "data": {
      "image/png": "[encoded data removed]",
      "text/plain": [
       "<Figure size 432x288 with 1 Axes>"
      ]
     },
     "metadata": {
      "needs_background": "light"
     },
     "output_type": "display_data"
    }
   ],
   "source": [
    "%%capture --no-display\n",
    "correctness(50)"
   ]
  },
  {
   "cell_type": "markdown",
   "id": "b9deea00",
   "metadata": {},
   "source": [
    "#### 100 lines of estimation."
   ]
  },
  {
   "cell_type": "code",
   "execution_count": 38,
   "id": "14aa5721",
   "metadata": {},
   "outputs": [
    {
     "data": {
      "image/png": "[encoded data removed]",
      "text/plain": [
       "<Figure size 432x288 with 1 Axes>"
      ]
     },
     "metadata": {
      "needs_background": "light"
     },
     "output_type": "display_data"
    }
   ],
   "source": [
    "%%capture --no-display\n",
    "correctness(100)"
   ]
  }
 ],
 "metadata": {
  "kernelspec": {
   "display_name": "Python 3",
   "language": "python",
   "name": "python3"
  },
  "language_info": {
   "codemirror_mode": {
    "name": "ipython",
    "version": 3
   },
   "file_extension": ".py",
   "mimetype": "text/x-python",
   "name": "python",
   "nbconvert_exporter": "python",
   "pygments_lexer": "ipython3",
   "version": "3.8.8"
  }
 },
 "nbformat": 4,
 "nbformat_minor": 5
}
