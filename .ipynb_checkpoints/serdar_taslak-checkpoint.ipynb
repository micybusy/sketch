{
 "cells": [
  {
   "cell_type": "code",
   "execution_count": 1,
   "id": "871727b6",
   "metadata": {
    "scrolled": true
   },
   "outputs": [
    {
     "data": {
      "text/html": [
       "<div>\n",
       "<style scoped>\n",
       "    .dataframe tbody tr th:only-of-type {\n",
       "        vertical-align: middle;\n",
       "    }\n",
       "\n",
       "    .dataframe tbody tr th {\n",
       "        vertical-align: top;\n",
       "    }\n",
       "\n",
       "    .dataframe thead th {\n",
       "        text-align: right;\n",
       "    }\n",
       "</style>\n",
       "<table border=\"1\" class=\"dataframe\">\n",
       "  <thead>\n",
       "    <tr style=\"text-align: right;\">\n",
       "      <th></th>\n",
       "      <th>date</th>\n",
       "      <th>rank</th>\n",
       "      <th>song</th>\n",
       "      <th>artist</th>\n",
       "      <th>last-week</th>\n",
       "      <th>peak-rank</th>\n",
       "      <th>weeks-on-board</th>\n",
       "      <th>rankimportance</th>\n",
       "    </tr>\n",
       "  </thead>\n",
       "  <tbody>\n",
       "    <tr>\n",
       "      <th>0</th>\n",
       "      <td>2021-11-06</td>\n",
       "      <td>1</td>\n",
       "      <td>Easy On Me</td>\n",
       "      <td>Adele</td>\n",
       "      <td>1.0</td>\n",
       "      <td>1</td>\n",
       "      <td>3</td>\n",
       "      <td>100</td>\n",
       "    </tr>\n",
       "    <tr>\n",
       "      <th>1</th>\n",
       "      <td>2021-11-06</td>\n",
       "      <td>2</td>\n",
       "      <td>Stay</td>\n",
       "      <td>The Kid LAROI &amp; Justin Bieber</td>\n",
       "      <td>2.0</td>\n",
       "      <td>1</td>\n",
       "      <td>16</td>\n",
       "      <td>99</td>\n",
       "    </tr>\n",
       "    <tr>\n",
       "      <th>2</th>\n",
       "      <td>2021-11-06</td>\n",
       "      <td>3</td>\n",
       "      <td>Industry Baby</td>\n",
       "      <td>Lil Nas X &amp; Jack Harlow</td>\n",
       "      <td>3.0</td>\n",
       "      <td>1</td>\n",
       "      <td>14</td>\n",
       "      <td>98</td>\n",
       "    </tr>\n",
       "    <tr>\n",
       "      <th>3</th>\n",
       "      <td>2021-11-06</td>\n",
       "      <td>4</td>\n",
       "      <td>Fancy Like</td>\n",
       "      <td>Walker Hayes</td>\n",
       "      <td>4.0</td>\n",
       "      <td>3</td>\n",
       "      <td>19</td>\n",
       "      <td>97</td>\n",
       "    </tr>\n",
       "    <tr>\n",
       "      <th>4</th>\n",
       "      <td>2021-11-06</td>\n",
       "      <td>5</td>\n",
       "      <td>Bad Habits</td>\n",
       "      <td>Ed Sheeran</td>\n",
       "      <td>5.0</td>\n",
       "      <td>2</td>\n",
       "      <td>18</td>\n",
       "      <td>96</td>\n",
       "    </tr>\n",
       "    <tr>\n",
       "      <th>...</th>\n",
       "      <td>...</td>\n",
       "      <td>...</td>\n",
       "      <td>...</td>\n",
       "      <td>...</td>\n",
       "      <td>...</td>\n",
       "      <td>...</td>\n",
       "      <td>...</td>\n",
       "      <td>...</td>\n",
       "    </tr>\n",
       "    <tr>\n",
       "      <th>330082</th>\n",
       "      <td>1958-08-04</td>\n",
       "      <td>96</td>\n",
       "      <td>Over And Over</td>\n",
       "      <td>Thurston Harris</td>\n",
       "      <td>NaN</td>\n",
       "      <td>96</td>\n",
       "      <td>1</td>\n",
       "      <td>5</td>\n",
       "    </tr>\n",
       "    <tr>\n",
       "      <th>330083</th>\n",
       "      <td>1958-08-04</td>\n",
       "      <td>97</td>\n",
       "      <td>I Believe In You</td>\n",
       "      <td>Robert &amp; Johnny</td>\n",
       "      <td>NaN</td>\n",
       "      <td>97</td>\n",
       "      <td>1</td>\n",
       "      <td>4</td>\n",
       "    </tr>\n",
       "    <tr>\n",
       "      <th>330084</th>\n",
       "      <td>1958-08-04</td>\n",
       "      <td>98</td>\n",
       "      <td>Little Serenade</td>\n",
       "      <td>The Ames Brothers</td>\n",
       "      <td>NaN</td>\n",
       "      <td>98</td>\n",
       "      <td>1</td>\n",
       "      <td>3</td>\n",
       "    </tr>\n",
       "    <tr>\n",
       "      <th>330085</th>\n",
       "      <td>1958-08-04</td>\n",
       "      <td>99</td>\n",
       "      <td>I'll Get By (As Long As I Have You)</td>\n",
       "      <td>Billy Williams</td>\n",
       "      <td>NaN</td>\n",
       "      <td>99</td>\n",
       "      <td>1</td>\n",
       "      <td>2</td>\n",
       "    </tr>\n",
       "    <tr>\n",
       "      <th>330086</th>\n",
       "      <td>1958-08-04</td>\n",
       "      <td>100</td>\n",
       "      <td>Judy</td>\n",
       "      <td>Frankie Vaughan</td>\n",
       "      <td>NaN</td>\n",
       "      <td>100</td>\n",
       "      <td>1</td>\n",
       "      <td>1</td>\n",
       "    </tr>\n",
       "  </tbody>\n",
       "</table>\n",
       "<p>330087 rows × 8 columns</p>\n",
       "</div>"
      ],
      "text/plain": [
       "              date  rank                                 song  \\\n",
       "0       2021-11-06     1                           Easy On Me   \n",
       "1       2021-11-06     2                                 Stay   \n",
       "2       2021-11-06     3                        Industry Baby   \n",
       "3       2021-11-06     4                           Fancy Like   \n",
       "4       2021-11-06     5                           Bad Habits   \n",
       "...            ...   ...                                  ...   \n",
       "330082  1958-08-04    96                        Over And Over   \n",
       "330083  1958-08-04    97                     I Believe In You   \n",
       "330084  1958-08-04    98                      Little Serenade   \n",
       "330085  1958-08-04    99  I'll Get By (As Long As I Have You)   \n",
       "330086  1958-08-04   100                                 Judy   \n",
       "\n",
       "                               artist  last-week  peak-rank  weeks-on-board  \\\n",
       "0                               Adele        1.0          1               3   \n",
       "1       The Kid LAROI & Justin Bieber        2.0          1              16   \n",
       "2             Lil Nas X & Jack Harlow        3.0          1              14   \n",
       "3                        Walker Hayes        4.0          3              19   \n",
       "4                          Ed Sheeran        5.0          2              18   \n",
       "...                               ...        ...        ...             ...   \n",
       "330082                Thurston Harris        NaN         96               1   \n",
       "330083                Robert & Johnny        NaN         97               1   \n",
       "330084              The Ames Brothers        NaN         98               1   \n",
       "330085                 Billy Williams        NaN         99               1   \n",
       "330086                Frankie Vaughan        NaN        100               1   \n",
       "\n",
       "        rankimportance  \n",
       "0                  100  \n",
       "1                   99  \n",
       "2                   98  \n",
       "3                   97  \n",
       "4                   96  \n",
       "...                ...  \n",
       "330082               5  \n",
       "330083               4  \n",
       "330084               3  \n",
       "330085               2  \n",
       "330086               1  \n",
       "\n",
       "[330087 rows x 8 columns]"
      ]
     },
     "execution_count": 1,
     "metadata": {},
     "output_type": "execute_result"
    }
   ],
   "source": [
    "import pandas as ps\n",
    "from urllib.request import urlopen\n",
    "import requests\n",
    "url = \"https://raw.githubusercontent.com/micybusy/sketch/main/charts.csv\"\n",
    "with urlopen(url) as f:\n",
    "    content = ps.read_csv(url, encoding = \"utf-8\")\n",
    "content[\"rankimportance\"]=101-content[\"rank\"]\n",
    "content"
   ]
  },
  {
   "cell_type": "code",
   "execution_count": 3,
   "id": "c312d8f2",
   "metadata": {},
   "outputs": [],
   "source": [
    "date=content['date'].str.split('-', expand=True)\n",
    "date.rename(columns = {0:'year',1:'month',2:'day'}, inplace = True)\n",
    "date[\"year\"] = date.year.astype('int')\n",
    "date[\"month\"] = date.month.astype('int')\n",
    "date[\"day\"] = date.day.astype('int')\n",
    "content[\"year\"]=date[\"year\"]\n",
    "content[\"month\"]=date[\"month\"]\n",
    "content.loc[(content[\"month\"]>9),'year']=date['year']+1\n",
    "a=content.loc[content[\"month\"]==8]"
   ]
  },
  {
   "cell_type": "code",
   "execution_count": 4,
   "id": "3e27338f",
   "metadata": {},
   "outputs": [],
   "source": [
    "content['sumimportance'] = content.groupby([\"artist\", \"song\",'year'])['rankimportance'].transform('sum')\n",
    "content=content.sort_values(\"sumimportance\", ascending = False)"
   ]
  },
  {
   "cell_type": "code",
   "execution_count": 5,
   "id": "c2fb4dce",
   "metadata": {},
   "outputs": [],
   "source": [
    "content['rank_1']=0\n",
    "content[\"rank_1\"]=content[\"rank\"].copy()\n",
    "content[\"rank_1\"]=content[\"rank_1\"].apply(lambda x:  0 if x>1 else 1)\n",
    "content['rank_1_sum'] = content.groupby([\"artist\", \"song\",'year'])['rank_1'].transform('sum')\n",
    "content=content.sort_values(\"rank_1_sum\", ascending = False)"
   ]
  },
  {
   "cell_type": "code",
   "execution_count": 6,
   "id": "4a5071e5",
   "metadata": {},
   "outputs": [],
   "source": [
    "table=ps.DataFrame(content.groupby(['year','song','artist','sumimportance','rank_1_sum']).size().reset_index().rename(columns={0:'count'}))\n",
    "table['ratio']=table['sumimportance']/table['count']\n",
    "table=table.sort_values(\"sumimportance\", ascending = False)"
   ]
  },
  {
   "cell_type": "code",
   "execution_count": 7,
   "id": "48fb400d",
   "metadata": {},
   "outputs": [],
   "source": [
    "tabledate=ps.DataFrame(content.groupby(['year',\"date\"]).size().reset_index().rename(columns={0:'count'}))\n",
    "tabledate=tabledate.drop([\"count\"],axis=1)\n",
    "tabledatex=ps.DataFrame(tabledate.groupby(['year']).size().reset_index().rename(columns={0:'yeartotalweek'}))"
   ]
  },
  {
   "cell_type": "code",
   "execution_count": 8,
   "id": "23e1f45e",
   "metadata": {},
   "outputs": [],
   "source": [
    "tabledate[\"week\"]=0\n",
    "b=0\n",
    "\n",
    "for i in range(65):\n",
    "    a=tabledatex.iloc[i,1]\n",
    "    for j in range(a):\n",
    "         tabledate.iloc[j+b,2]=j+1\n",
    "    b=b+a"
   ]
  },
  {
   "cell_type": "code",
   "execution_count": 9,
   "id": "0c2c3d4f",
   "metadata": {},
   "outputs": [],
   "source": [
    "tabledate=tabledate.drop([\"year\"],axis=1)\n",
    "content=content.merge(tabledate,on=['date'], how='left')\n",
    "content=content.merge(tabledatex,on=['year'], how='left')"
   ]
  },
  {
   "cell_type": "code",
   "execution_count": 10,
   "id": "865c85ca",
   "metadata": {},
   "outputs": [],
   "source": [
    "content=content.sort_values([\"date\",\"rank\"], ascending = True)"
   ]
  },
  {
   "cell_type": "code",
   "execution_count": 11,
   "id": "623da21d",
   "metadata": {},
   "outputs": [],
   "source": [
    "content[\"first_test\"] = content.groupby(['year','song','artist'])[\"week\"].transform(\"first\")"
   ]
  },
  {
   "cell_type": "code",
   "execution_count": 12,
   "id": "20ab6afd",
   "metadata": {},
   "outputs": [],
   "source": [
    "table=ps.DataFrame(content.groupby(['year','song','artist','sumimportance','rank_1_sum','yeartotalweek','first_test']).size().reset_index().rename(columns={0:'count'}))\n",
    "table[\"debut\"]=table[\"yeartotalweek\"]-table[\"first_test\"]+1\n",
    "table['ratio']=table['sumimportance']/table['debut']\n",
    "table=table.sort_values(\"ratio\", ascending = False)\n"
   ]
  },
  {
   "cell_type": "code",
   "execution_count": 13,
   "id": "be4b3188",
   "metadata": {},
   "outputs": [],
   "source": [
    "def gettables(y, lines):\n",
    "    tablex=table.loc[table[\"year\"]==y]\n",
    "    tablex=tablex.sort_values(\"ratio\", ascending = False)\n",
    "    tabley=tablex.sort_values(\"sumimportance\", ascending = False)\n",
    "    tablez = tablex.sort_values(\"rank_1_sum\", ascending = False)\n",
    "    tablex = tablex.reset_index();\n",
    "    tabley = tabley.reset_index();\n",
    "    tablez = tablez.reset_index();\n",
    "    return {\"ratio\":tablex[:lines], \"sumimp\":tabley[:lines], \"sum1\": tablez[:lines]}\n",
    "    "
   ]
  },
  {
   "cell_type": "code",
   "execution_count": 14,
   "id": "90c31512",
   "metadata": {},
   "outputs": [],
   "source": [
    "def assert_weight(year, lines):\n",
    "    tablo = gettables(year, lines)[\"ratio\"]\n",
    "    tablo1 = gettables(year, lines)[\"sumimp\"]\n",
    "    tablo2 = gettables(year, lines)[\"sum1\"]\n",
    "    tablo[\"value\"] = 0\n",
    "    tablo1[\"value\"] = 0\n",
    "    tablo2[\"value\"] = 0\n",
    "    tablo\n",
    "    for i in range(len(tablo)):\n",
    "        tablo[\"value\"][i] = len(tablo) - i\n",
    "        tablo1[\"value\"][i] = len(tablo) - i\n",
    "        tablo2[\"value\"][i] = len(tablo) - i\n",
    "        \n",
    "    tablo[\"value\"]=ps.to_numeric(tablo[\"value\"])\n",
    "    tablo[\"value\"] = tablo[\"value\"]*0.25\n",
    "    tablo1[\"value\"]=ps.to_numeric(tablo1[\"value\"])\n",
    "    tablo1[\"value\"] = tablo1[\"value\"]*0.55\n",
    "    tablo2[\"value\"]=ps.to_numeric(tablo2[\"value\"])\n",
    "    tablo2[\"value\"] = tablo2[\"value\"]*0.2\n",
    "    \n",
    "    return {\"ratio\":tablo[:lines], \"sumimp\":tablo1[:lines], \"sum1\": tablo2[:lines]}\n"
   ]
  },
  {
   "cell_type": "code",
   "execution_count": 15,
   "id": "ca20b84f",
   "metadata": {},
   "outputs": [],
   "source": [
    "def sum_weight(year, lines):\n",
    "    tables = assert_weight(year, lines)\n",
    "    [tablo, tablo1, tablo2] = [tables[\"ratio\"], tables[\"sumimp\"], tables[\"sum1\"]]\n",
    "    evaluate = gettables(year, lines)[\"sumimp\"]\n",
    "    evaluate = evaluate.sort_values(by = \"sumimportance\", ascending = False)\n",
    "    evaluate[\"weight\"] = float(0)\n",
    "    for i in range(len(evaluate)):\n",
    "        for j in range(len(tablo)):\n",
    "            if evaluate[\"song\"][i] == tablo[\"song\"][j]:\n",
    "                evaluate[\"weight\"][i] += float(tablo[\"value\"][j])\n",
    "        for k in range(len(tablo1)):\n",
    "            if evaluate[\"song\"][i] == tablo1[\"song\"][k]:\n",
    "                evaluate[\"weight\"][i] += float(tablo1[\"value\"][k])\n",
    "        for l in range(len(tablo2)):\n",
    "            if evaluate[\"song\"][i] == tablo2[\"song\"][l]:\n",
    "                evaluate[\"weight\"][i] += float(tablo2[\"value\"][l])\n",
    "    evaluate = evaluate.reset_index(drop = True)\n",
    "    return evaluate[:lines]"
   ]
  },
  {
   "cell_type": "code",
   "execution_count": 16,
   "id": "5c94d07f",
   "metadata": {},
   "outputs": [],
   "source": [
    "def weight_sort(year, lines):\n",
    "    evaluate = sum_weight(year,lines)\n",
    "    evaluate = evaluate.sort_values(by = \"weight\", ascending = False)\n",
    "    evaluate = evaluate.reset_index(drop = True)\n",
    "    return evaluate"
   ]
  },
  {
   "cell_type": "code",
   "execution_count": 17,
   "id": "54b2c8f6",
   "metadata": {},
   "outputs": [],
   "source": [
    "link = \"https://raw.githubusercontent.com/micybusy/sketch/main/grammies.csv\"\n",
    "with urlopen(link) as f:\n",
    "    grammies = ps.read_csv(f, encoding = \"utf-8\")\n",
    "grammies = grammies.to_dict()\n",
    "grammies_fix = {\"year\": grammies[\"Year[I]\"], \"song\": grammies[\"Record\"], \"artist\": grammies[\"Artist(s)\"]}\n",
    "grammies = ps.DataFrame(grammies_fix)"
   ]
  },
  {
   "cell_type": "code",
   "execution_count": 18,
   "id": "03a3c888",
   "metadata": {},
   "outputs": [],
   "source": [
    "def annual_nominee(x):\n",
    "    new_df = []\n",
    "    for i in range(len(grammies)):\n",
    "        if grammies.iloc[i][0] == x:\n",
    "            new_df.append(grammies.iloc[i])\n",
    "    new_df = ps.DataFrame(new_df)\n",
    "    new_df = new_df.reset_index(drop = True)\n",
    "    return new_df"
   ]
  },
  {
   "cell_type": "code",
   "execution_count": 19,
   "id": "e1e82d28",
   "metadata": {},
   "outputs": [],
   "source": [
    "def compare(x, lines):\n",
    "    grammy_nominees = annual_nominee(x)\n",
    "    annual_success = weight_sort(x-1, lines)\n",
    "    a = 0\n",
    "    for i in range(lines):\n",
    "        if annual_success[\"song\"][i] in list(grammy_nominees[\"song\"]):\n",
    "            a+=1\n",
    "        \n",
    "    percentage = (a/(len(grammy_nominees)))*100\n",
    "    return percentage"
   ]
  },
  {
   "cell_type": "code",
   "execution_count": 29,
   "id": "7cc360a8",
   "metadata": {},
   "outputs": [
    {
     "data": {
      "text/plain": [
       "60.0"
      ]
     },
     "execution_count": 29,
     "metadata": {},
     "output_type": "execute_result"
    }
   ],
   "source": [
    "%%capture --no-display\n",
    "compare(2001,50)"
   ]
  }
 ],
 "metadata": {
  "kernelspec": {
   "display_name": "Python 3",
   "language": "python",
   "name": "python3"
  },
  "language_info": {
   "codemirror_mode": {
    "name": "ipython",
    "version": 3
   },
   "file_extension": ".py",
   "mimetype": "text/x-python",
   "name": "python",
   "nbconvert_exporter": "python",
   "pygments_lexer": "ipython3",
   "version": "3.8.8"
  }
 },
 "nbformat": 4,
 "nbformat_minor": 5
}
