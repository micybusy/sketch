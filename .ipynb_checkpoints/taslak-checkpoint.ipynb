{
 "cells": [
  {
   "cell_type": "code",
   "execution_count": 1,
   "id": "d83685f3",
   "metadata": {},
   "outputs": [],
   "source": [
    "import pandas as ps\n",
    "from urllib.request import urlopen\n",
    "import requests"
   ]
  },
  {
   "cell_type": "code",
   "execution_count": 2,
   "id": "c4ae4ab1",
   "metadata": {},
   "outputs": [
    {
     "data": {
      "text/html": [
       "<div>\n",
       "<style scoped>\n",
       "    .dataframe tbody tr th:only-of-type {\n",
       "        vertical-align: middle;\n",
       "    }\n",
       "\n",
       "    .dataframe tbody tr th {\n",
       "        vertical-align: top;\n",
       "    }\n",
       "\n",
       "    .dataframe thead th {\n",
       "        text-align: right;\n",
       "    }\n",
       "</style>\n",
       "<table border=\"1\" class=\"dataframe\">\n",
       "  <thead>\n",
       "    <tr style=\"text-align: right;\">\n",
       "      <th></th>\n",
       "      <th>date</th>\n",
       "      <th>rank</th>\n",
       "      <th>song</th>\n",
       "      <th>artist</th>\n",
       "      <th>last-week</th>\n",
       "      <th>peak-rank</th>\n",
       "      <th>weeks-on-board</th>\n",
       "    </tr>\n",
       "  </thead>\n",
       "  <tbody>\n",
       "    <tr>\n",
       "      <th>0</th>\n",
       "      <td>2021-11-06</td>\n",
       "      <td>1</td>\n",
       "      <td>Easy On Me</td>\n",
       "      <td>Adele</td>\n",
       "      <td>1.0</td>\n",
       "      <td>1</td>\n",
       "      <td>3</td>\n",
       "    </tr>\n",
       "    <tr>\n",
       "      <th>1</th>\n",
       "      <td>2021-11-06</td>\n",
       "      <td>2</td>\n",
       "      <td>Stay</td>\n",
       "      <td>The Kid LAROI &amp; Justin Bieber</td>\n",
       "      <td>2.0</td>\n",
       "      <td>1</td>\n",
       "      <td>16</td>\n",
       "    </tr>\n",
       "    <tr>\n",
       "      <th>2</th>\n",
       "      <td>2021-11-06</td>\n",
       "      <td>3</td>\n",
       "      <td>Industry Baby</td>\n",
       "      <td>Lil Nas X &amp; Jack Harlow</td>\n",
       "      <td>3.0</td>\n",
       "      <td>1</td>\n",
       "      <td>14</td>\n",
       "    </tr>\n",
       "    <tr>\n",
       "      <th>3</th>\n",
       "      <td>2021-11-06</td>\n",
       "      <td>4</td>\n",
       "      <td>Fancy Like</td>\n",
       "      <td>Walker Hayes</td>\n",
       "      <td>4.0</td>\n",
       "      <td>3</td>\n",
       "      <td>19</td>\n",
       "    </tr>\n",
       "    <tr>\n",
       "      <th>4</th>\n",
       "      <td>2021-11-06</td>\n",
       "      <td>5</td>\n",
       "      <td>Bad Habits</td>\n",
       "      <td>Ed Sheeran</td>\n",
       "      <td>5.0</td>\n",
       "      <td>2</td>\n",
       "      <td>18</td>\n",
       "    </tr>\n",
       "    <tr>\n",
       "      <th>...</th>\n",
       "      <td>...</td>\n",
       "      <td>...</td>\n",
       "      <td>...</td>\n",
       "      <td>...</td>\n",
       "      <td>...</td>\n",
       "      <td>...</td>\n",
       "      <td>...</td>\n",
       "    </tr>\n",
       "    <tr>\n",
       "      <th>330082</th>\n",
       "      <td>1958-08-04</td>\n",
       "      <td>96</td>\n",
       "      <td>Over And Over</td>\n",
       "      <td>Thurston Harris</td>\n",
       "      <td>NaN</td>\n",
       "      <td>96</td>\n",
       "      <td>1</td>\n",
       "    </tr>\n",
       "    <tr>\n",
       "      <th>330083</th>\n",
       "      <td>1958-08-04</td>\n",
       "      <td>97</td>\n",
       "      <td>I Believe In You</td>\n",
       "      <td>Robert &amp; Johnny</td>\n",
       "      <td>NaN</td>\n",
       "      <td>97</td>\n",
       "      <td>1</td>\n",
       "    </tr>\n",
       "    <tr>\n",
       "      <th>330084</th>\n",
       "      <td>1958-08-04</td>\n",
       "      <td>98</td>\n",
       "      <td>Little Serenade</td>\n",
       "      <td>The Ames Brothers</td>\n",
       "      <td>NaN</td>\n",
       "      <td>98</td>\n",
       "      <td>1</td>\n",
       "    </tr>\n",
       "    <tr>\n",
       "      <th>330085</th>\n",
       "      <td>1958-08-04</td>\n",
       "      <td>99</td>\n",
       "      <td>I'll Get By (As Long As I Have You)</td>\n",
       "      <td>Billy Williams</td>\n",
       "      <td>NaN</td>\n",
       "      <td>99</td>\n",
       "      <td>1</td>\n",
       "    </tr>\n",
       "    <tr>\n",
       "      <th>330086</th>\n",
       "      <td>1958-08-04</td>\n",
       "      <td>100</td>\n",
       "      <td>Judy</td>\n",
       "      <td>Frankie Vaughan</td>\n",
       "      <td>NaN</td>\n",
       "      <td>100</td>\n",
       "      <td>1</td>\n",
       "    </tr>\n",
       "  </tbody>\n",
       "</table>\n",
       "<p>330087 rows × 7 columns</p>\n",
       "</div>"
      ],
      "text/plain": [
       "              date  rank                                 song  \\\n",
       "0       2021-11-06     1                           Easy On Me   \n",
       "1       2021-11-06     2                                 Stay   \n",
       "2       2021-11-06     3                        Industry Baby   \n",
       "3       2021-11-06     4                           Fancy Like   \n",
       "4       2021-11-06     5                           Bad Habits   \n",
       "...            ...   ...                                  ...   \n",
       "330082  1958-08-04    96                        Over And Over   \n",
       "330083  1958-08-04    97                     I Believe In You   \n",
       "330084  1958-08-04    98                      Little Serenade   \n",
       "330085  1958-08-04    99  I'll Get By (As Long As I Have You)   \n",
       "330086  1958-08-04   100                                 Judy   \n",
       "\n",
       "                               artist  last-week  peak-rank  weeks-on-board  \n",
       "0                               Adele        1.0          1               3  \n",
       "1       The Kid LAROI & Justin Bieber        2.0          1              16  \n",
       "2             Lil Nas X & Jack Harlow        3.0          1              14  \n",
       "3                        Walker Hayes        4.0          3              19  \n",
       "4                          Ed Sheeran        5.0          2              18  \n",
       "...                               ...        ...        ...             ...  \n",
       "330082                Thurston Harris        NaN         96               1  \n",
       "330083                Robert & Johnny        NaN         97               1  \n",
       "330084              The Ames Brothers        NaN         98               1  \n",
       "330085                 Billy Williams        NaN         99               1  \n",
       "330086                Frankie Vaughan        NaN        100               1  \n",
       "\n",
       "[330087 rows x 7 columns]"
      ]
     },
     "execution_count": 2,
     "metadata": {},
     "output_type": "execute_result"
    }
   ],
   "source": [
    "url = \"https://raw.githubusercontent.com/micybusy/sketch/main/charts.csv\"\n",
    "with urlopen(url) as f:\n",
    "    content = ps.read_csv(url, encoding = \"utf-8\")\n",
    "\n",
    "content"
   ]
  },
  {
   "cell_type": "code",
   "execution_count": 3,
   "id": "0008a557",
   "metadata": {},
   "outputs": [
    {
     "data": {
      "text/plain": [
       "0"
      ]
     },
     "metadata": {},
     "output_type": "display_data"
    },
    {
     "data": {
      "text/plain": [
       "5200"
      ]
     },
     "metadata": {},
     "output_type": "display_data"
    },
    {
     "data": {
      "text/plain": [
       "10400"
      ]
     },
     "metadata": {},
     "output_type": "display_data"
    },
    {
     "data": {
      "text/plain": [
       "15600"
      ]
     },
     "metadata": {},
     "output_type": "display_data"
    },
    {
     "data": {
      "text/plain": [
       "20800"
      ]
     },
     "metadata": {},
     "output_type": "display_data"
    },
    {
     "data": {
      "text/plain": [
       "26000"
      ]
     },
     "metadata": {},
     "output_type": "display_data"
    },
    {
     "data": {
      "text/plain": [
       "31200"
      ]
     },
     "metadata": {},
     "output_type": "display_data"
    },
    {
     "data": {
      "text/plain": [
       "36400"
      ]
     },
     "metadata": {},
     "output_type": "display_data"
    },
    {
     "data": {
      "text/plain": [
       "41600"
      ]
     },
     "metadata": {},
     "output_type": "display_data"
    },
    {
     "data": {
      "text/plain": [
       "46800"
      ]
     },
     "metadata": {},
     "output_type": "display_data"
    },
    {
     "data": {
      "text/plain": [
       "52000"
      ]
     },
     "metadata": {},
     "output_type": "display_data"
    },
    {
     "data": {
      "text/plain": [
       "57200"
      ]
     },
     "metadata": {},
     "output_type": "display_data"
    },
    {
     "data": {
      "text/plain": [
       "62400"
      ]
     },
     "metadata": {},
     "output_type": "display_data"
    },
    {
     "data": {
      "text/plain": [
       "67600"
      ]
     },
     "metadata": {},
     "output_type": "display_data"
    },
    {
     "data": {
      "text/plain": [
       "72800"
      ]
     },
     "metadata": {},
     "output_type": "display_data"
    },
    {
     "data": {
      "text/plain": [
       "78000"
      ]
     },
     "metadata": {},
     "output_type": "display_data"
    },
    {
     "data": {
      "text/plain": [
       "83200"
      ]
     },
     "metadata": {},
     "output_type": "display_data"
    },
    {
     "data": {
      "text/plain": [
       "88400"
      ]
     },
     "metadata": {},
     "output_type": "display_data"
    },
    {
     "data": {
      "text/plain": [
       "93600"
      ]
     },
     "metadata": {},
     "output_type": "display_data"
    },
    {
     "data": {
      "text/plain": [
       "98800"
      ]
     },
     "metadata": {},
     "output_type": "display_data"
    },
    {
     "data": {
      "text/plain": [
       "104000"
      ]
     },
     "metadata": {},
     "output_type": "display_data"
    },
    {
     "data": {
      "text/plain": [
       "109200"
      ]
     },
     "metadata": {},
     "output_type": "display_data"
    },
    {
     "data": {
      "text/plain": [
       "114400"
      ]
     },
     "metadata": {},
     "output_type": "display_data"
    },
    {
     "data": {
      "text/plain": [
       "119600"
      ]
     },
     "metadata": {},
     "output_type": "display_data"
    },
    {
     "data": {
      "text/plain": [
       "124800"
      ]
     },
     "metadata": {},
     "output_type": "display_data"
    },
    {
     "data": {
      "text/plain": [
       "130000"
      ]
     },
     "metadata": {},
     "output_type": "display_data"
    },
    {
     "data": {
      "text/plain": [
       "135200"
      ]
     },
     "metadata": {},
     "output_type": "display_data"
    },
    {
     "data": {
      "text/plain": [
       "140400"
      ]
     },
     "metadata": {},
     "output_type": "display_data"
    },
    {
     "data": {
      "text/plain": [
       "145600"
      ]
     },
     "metadata": {},
     "output_type": "display_data"
    },
    {
     "data": {
      "text/plain": [
       "150800"
      ]
     },
     "metadata": {},
     "output_type": "display_data"
    },
    {
     "data": {
      "text/plain": [
       "156000"
      ]
     },
     "metadata": {},
     "output_type": "display_data"
    },
    {
     "data": {
      "text/plain": [
       "161200"
      ]
     },
     "metadata": {},
     "output_type": "display_data"
    },
    {
     "data": {
      "text/plain": [
       "166400"
      ]
     },
     "metadata": {},
     "output_type": "display_data"
    },
    {
     "data": {
      "text/plain": [
       "171600"
      ]
     },
     "metadata": {},
     "output_type": "display_data"
    },
    {
     "data": {
      "text/plain": [
       "176800"
      ]
     },
     "metadata": {},
     "output_type": "display_data"
    },
    {
     "data": {
      "text/plain": [
       "182000"
      ]
     },
     "metadata": {},
     "output_type": "display_data"
    },
    {
     "data": {
      "text/plain": [
       "187200"
      ]
     },
     "metadata": {},
     "output_type": "display_data"
    },
    {
     "data": {
      "text/plain": [
       "192400"
      ]
     },
     "metadata": {},
     "output_type": "display_data"
    },
    {
     "data": {
      "text/plain": [
       "197600"
      ]
     },
     "metadata": {},
     "output_type": "display_data"
    },
    {
     "data": {
      "text/plain": [
       "202800"
      ]
     },
     "metadata": {},
     "output_type": "display_data"
    },
    {
     "data": {
      "text/plain": [
       "208000"
      ]
     },
     "metadata": {},
     "output_type": "display_data"
    },
    {
     "data": {
      "text/plain": [
       "213200"
      ]
     },
     "metadata": {},
     "output_type": "display_data"
    },
    {
     "data": {
      "text/plain": [
       "218400"
      ]
     },
     "metadata": {},
     "output_type": "display_data"
    },
    {
     "data": {
      "text/plain": [
       "223600"
      ]
     },
     "metadata": {},
     "output_type": "display_data"
    },
    {
     "data": {
      "text/plain": [
       "228800"
      ]
     },
     "metadata": {},
     "output_type": "display_data"
    },
    {
     "data": {
      "text/plain": [
       "234000"
      ]
     },
     "metadata": {},
     "output_type": "display_data"
    },
    {
     "data": {
      "text/plain": [
       "239200"
      ]
     },
     "metadata": {},
     "output_type": "display_data"
    },
    {
     "data": {
      "text/plain": [
       "244400"
      ]
     },
     "metadata": {},
     "output_type": "display_data"
    },
    {
     "data": {
      "text/plain": [
       "249600"
      ]
     },
     "metadata": {},
     "output_type": "display_data"
    },
    {
     "data": {
      "text/plain": [
       "254800"
      ]
     },
     "metadata": {},
     "output_type": "display_data"
    },
    {
     "data": {
      "text/plain": [
       "260000"
      ]
     },
     "metadata": {},
     "output_type": "display_data"
    },
    {
     "data": {
      "text/plain": [
       "265200"
      ]
     },
     "metadata": {},
     "output_type": "display_data"
    },
    {
     "data": {
      "text/plain": [
       "270400"
      ]
     },
     "metadata": {},
     "output_type": "display_data"
    },
    {
     "data": {
      "text/plain": [
       "275600"
      ]
     },
     "metadata": {},
     "output_type": "display_data"
    },
    {
     "data": {
      "text/plain": [
       "280800"
      ]
     },
     "metadata": {},
     "output_type": "display_data"
    },
    {
     "data": {
      "text/plain": [
       "286000"
      ]
     },
     "metadata": {},
     "output_type": "display_data"
    },
    {
     "data": {
      "text/plain": [
       "291200"
      ]
     },
     "metadata": {},
     "output_type": "display_data"
    },
    {
     "data": {
      "text/plain": [
       "296400"
      ]
     },
     "metadata": {},
     "output_type": "display_data"
    },
    {
     "data": {
      "text/plain": [
       "301600"
      ]
     },
     "metadata": {},
     "output_type": "display_data"
    },
    {
     "data": {
      "text/plain": [
       "306800"
      ]
     },
     "metadata": {},
     "output_type": "display_data"
    },
    {
     "data": {
      "text/plain": [
       "312000"
      ]
     },
     "metadata": {},
     "output_type": "display_data"
    },
    {
     "data": {
      "text/plain": [
       "317200"
      ]
     },
     "metadata": {},
     "output_type": "display_data"
    },
    {
     "data": {
      "text/plain": [
       "322400"
      ]
     },
     "metadata": {},
     "output_type": "display_data"
    },
    {
     "data": {
      "text/plain": [
       "327600"
      ]
     },
     "metadata": {},
     "output_type": "display_data"
    }
   ],
   "source": [
    "entries_by_year = {}\n",
    "dummy_list = []\n",
    "a = 2022\n",
    "for i in range(0,len(content), 5200):\n",
    "    display(i)\n",
    "    dummy_list.append(content[i:i+5200])\n",
    "    entries_by_year.update({a:dummy_list})\n",
    "    a = a-1\n",
    "    dummy_list = []"
   ]
  },
  {
   "cell_type": "code",
   "execution_count": 4,
   "id": "f81cc32c",
   "metadata": {},
   "outputs": [],
   "source": [
    "def getYear(a):\n",
    "    return entries_by_year[a][0]"
   ]
  },
  {
   "cell_type": "code",
   "execution_count": 5,
   "id": "0cb77b84",
   "metadata": {},
   "outputs": [],
   "source": [
    "def groupby_artist(a, b):\n",
    "    perm = getYear(a)\n",
    "    out =ps.DataFrame(perm.groupby([\"artist\", \"song\"]).size().reset_index().rename(columns={0:'count'}))\n",
    "    out = out.sort_values(\"count\", ascending = False)\n",
    "    return out[:b]"
   ]
  },
  {
   "cell_type": "code",
   "execution_count": 6,
   "id": "18de5c4f",
   "metadata": {},
   "outputs": [
    {
     "data": {
      "text/html": [
       "<div>\n",
       "<style scoped>\n",
       "    .dataframe tbody tr th:only-of-type {\n",
       "        vertical-align: middle;\n",
       "    }\n",
       "\n",
       "    .dataframe tbody tr th {\n",
       "        vertical-align: top;\n",
       "    }\n",
       "\n",
       "    .dataframe thead th {\n",
       "        text-align: right;\n",
       "    }\n",
       "</style>\n",
       "<table border=\"1\" class=\"dataframe\">\n",
       "  <thead>\n",
       "    <tr style=\"text-align: right;\">\n",
       "      <th></th>\n",
       "      <th>artist</th>\n",
       "      <th>song</th>\n",
       "      <th>count</th>\n",
       "    </tr>\n",
       "  </thead>\n",
       "  <tbody>\n",
       "    <tr>\n",
       "      <th>262</th>\n",
       "      <td>James Arthur</td>\n",
       "      <td>Say You Won't Let Go</td>\n",
       "      <td>51</td>\n",
       "    </tr>\n",
       "    <tr>\n",
       "      <th>468</th>\n",
       "      <td>Post Malone Featuring Quavo</td>\n",
       "      <td>Congratulations</td>\n",
       "      <td>44</td>\n",
       "    </tr>\n",
       "    <tr>\n",
       "      <th>89</th>\n",
       "      <td>Childish Gambino</td>\n",
       "      <td>Redbone</td>\n",
       "      <td>44</td>\n",
       "    </tr>\n",
       "    <tr>\n",
       "      <th>176</th>\n",
       "      <td>Ed Sheeran</td>\n",
       "      <td>Shape Of You</td>\n",
       "      <td>42</td>\n",
       "    </tr>\n",
       "    <tr>\n",
       "      <th>314</th>\n",
       "      <td>Khalid</td>\n",
       "      <td>Location</td>\n",
       "      <td>42</td>\n",
       "    </tr>\n",
       "    <tr>\n",
       "      <th>62</th>\n",
       "      <td>Bruno Mars</td>\n",
       "      <td>That's What I Like</td>\n",
       "      <td>41</td>\n",
       "    </tr>\n",
       "    <tr>\n",
       "      <th>375</th>\n",
       "      <td>Luis Fonsi &amp; Daddy Yankee Featuring Justin Bieber</td>\n",
       "      <td>Despacito</td>\n",
       "      <td>41</td>\n",
       "    </tr>\n",
       "    <tr>\n",
       "      <th>490</th>\n",
       "      <td>Sam Hunt</td>\n",
       "      <td>Body Like A Back Road</td>\n",
       "      <td>39</td>\n",
       "    </tr>\n",
       "    <tr>\n",
       "      <th>520</th>\n",
       "      <td>The Chainsmokers Featuring Halsey</td>\n",
       "      <td>Closer</td>\n",
       "      <td>39</td>\n",
       "    </tr>\n",
       "    <tr>\n",
       "      <th>61</th>\n",
       "      <td>Bruno Mars</td>\n",
       "      <td>24K Magic</td>\n",
       "      <td>38</td>\n",
       "    </tr>\n",
       "    <tr>\n",
       "      <th>234</th>\n",
       "      <td>Imagine Dragons</td>\n",
       "      <td>Believer</td>\n",
       "      <td>38</td>\n",
       "    </tr>\n",
       "    <tr>\n",
       "      <th>426</th>\n",
       "      <td>Migos Featuring Lil Uzi Vert</td>\n",
       "      <td>Bad And Boujee</td>\n",
       "      <td>36</td>\n",
       "    </tr>\n",
       "    <tr>\n",
       "      <th>518</th>\n",
       "      <td>The Chainsmokers &amp; Coldplay</td>\n",
       "      <td>Something Just Like This</td>\n",
       "      <td>36</td>\n",
       "    </tr>\n",
       "    <tr>\n",
       "      <th>22</th>\n",
       "      <td>Alessia Cara</td>\n",
       "      <td>Scars To Your Beautiful</td>\n",
       "      <td>34</td>\n",
       "    </tr>\n",
       "    <tr>\n",
       "      <th>167</th>\n",
       "      <td>Ed Sheeran</td>\n",
       "      <td>Castle On The Hill</td>\n",
       "      <td>33</td>\n",
       "    </tr>\n",
       "    <tr>\n",
       "      <th>586</th>\n",
       "      <td>Zedd &amp; Alessia Cara</td>\n",
       "      <td>Stay</td>\n",
       "      <td>31</td>\n",
       "    </tr>\n",
       "    <tr>\n",
       "      <th>353</th>\n",
       "      <td>Lil Uzi Vert</td>\n",
       "      <td>XO TOUR Llif3</td>\n",
       "      <td>31</td>\n",
       "    </tr>\n",
       "    <tr>\n",
       "      <th>198</th>\n",
       "      <td>Future</td>\n",
       "      <td>Mask Off</td>\n",
       "      <td>31</td>\n",
       "    </tr>\n",
       "    <tr>\n",
       "      <th>300</th>\n",
       "      <td>Kendrick Lamar</td>\n",
       "      <td>Humble.</td>\n",
       "      <td>30</td>\n",
       "    </tr>\n",
       "    <tr>\n",
       "      <th>279</th>\n",
       "      <td>KYLE Featuring Lil Yachty</td>\n",
       "      <td>iSpy</td>\n",
       "      <td>30</td>\n",
       "    </tr>\n",
       "    <tr>\n",
       "      <th>327</th>\n",
       "      <td>Kygo x Selena Gomez</td>\n",
       "      <td>It Ain't Me</td>\n",
       "      <td>29</td>\n",
       "    </tr>\n",
       "    <tr>\n",
       "      <th>478</th>\n",
       "      <td>Rihanna</td>\n",
       "      <td>Love On The Brain</td>\n",
       "      <td>29</td>\n",
       "    </tr>\n",
       "    <tr>\n",
       "      <th>192</th>\n",
       "      <td>French Montana Featuring Swae Lee</td>\n",
       "      <td>Unforgettable</td>\n",
       "      <td>29</td>\n",
       "    </tr>\n",
       "    <tr>\n",
       "      <th>274</th>\n",
       "      <td>Julia Michaels</td>\n",
       "      <td>Issues</td>\n",
       "      <td>29</td>\n",
       "    </tr>\n",
       "    <tr>\n",
       "      <th>56</th>\n",
       "      <td>Brett Young</td>\n",
       "      <td>In Case You Didn't Know</td>\n",
       "      <td>28</td>\n",
       "    </tr>\n",
       "    <tr>\n",
       "      <th>38</th>\n",
       "      <td>Big Sean</td>\n",
       "      <td>Bounce Back</td>\n",
       "      <td>28</td>\n",
       "    </tr>\n",
       "    <tr>\n",
       "      <th>553</th>\n",
       "      <td>Travis Scott</td>\n",
       "      <td>Goosebumps</td>\n",
       "      <td>28</td>\n",
       "    </tr>\n",
       "    <tr>\n",
       "      <th>500</th>\n",
       "      <td>Shawn Mendes</td>\n",
       "      <td>There's Nothing Holdin' Me Back</td>\n",
       "      <td>27</td>\n",
       "    </tr>\n",
       "    <tr>\n",
       "      <th>84</th>\n",
       "      <td>Charlie Puth</td>\n",
       "      <td>Attention</td>\n",
       "      <td>27</td>\n",
       "    </tr>\n",
       "    <tr>\n",
       "      <th>104</th>\n",
       "      <td>Clean Bandit Featuring Sean Paul &amp; Anne-Marie</td>\n",
       "      <td>Rockabye</td>\n",
       "      <td>27</td>\n",
       "    </tr>\n",
       "  </tbody>\n",
       "</table>\n",
       "</div>"
      ],
      "text/plain": [
       "                                                artist  \\\n",
       "262                                       James Arthur   \n",
       "468                        Post Malone Featuring Quavo   \n",
       "89                                    Childish Gambino   \n",
       "176                                         Ed Sheeran   \n",
       "314                                             Khalid   \n",
       "62                                          Bruno Mars   \n",
       "375  Luis Fonsi & Daddy Yankee Featuring Justin Bieber   \n",
       "490                                           Sam Hunt   \n",
       "520                  The Chainsmokers Featuring Halsey   \n",
       "61                                          Bruno Mars   \n",
       "234                                    Imagine Dragons   \n",
       "426                       Migos Featuring Lil Uzi Vert   \n",
       "518                        The Chainsmokers & Coldplay   \n",
       "22                                        Alessia Cara   \n",
       "167                                         Ed Sheeran   \n",
       "586                                Zedd & Alessia Cara   \n",
       "353                                       Lil Uzi Vert   \n",
       "198                                             Future   \n",
       "300                                     Kendrick Lamar   \n",
       "279                          KYLE Featuring Lil Yachty   \n",
       "327                                Kygo x Selena Gomez   \n",
       "478                                            Rihanna   \n",
       "192                  French Montana Featuring Swae Lee   \n",
       "274                                     Julia Michaels   \n",
       "56                                         Brett Young   \n",
       "38                                            Big Sean   \n",
       "553                                       Travis Scott   \n",
       "500                                       Shawn Mendes   \n",
       "84                                        Charlie Puth   \n",
       "104      Clean Bandit Featuring Sean Paul & Anne-Marie   \n",
       "\n",
       "                                song  count  \n",
       "262             Say You Won't Let Go     51  \n",
       "468                  Congratulations     44  \n",
       "89                           Redbone     44  \n",
       "176                     Shape Of You     42  \n",
       "314                         Location     42  \n",
       "62                That's What I Like     41  \n",
       "375                        Despacito     41  \n",
       "490            Body Like A Back Road     39  \n",
       "520                           Closer     39  \n",
       "61                         24K Magic     38  \n",
       "234                         Believer     38  \n",
       "426                   Bad And Boujee     36  \n",
       "518         Something Just Like This     36  \n",
       "22           Scars To Your Beautiful     34  \n",
       "167               Castle On The Hill     33  \n",
       "586                             Stay     31  \n",
       "353                    XO TOUR Llif3     31  \n",
       "198                         Mask Off     31  \n",
       "300                          Humble.     30  \n",
       "279                             iSpy     30  \n",
       "327                      It Ain't Me     29  \n",
       "478                Love On The Brain     29  \n",
       "192                    Unforgettable     29  \n",
       "274                           Issues     29  \n",
       "56           In Case You Didn't Know     28  \n",
       "38                       Bounce Back     28  \n",
       "553                       Goosebumps     28  \n",
       "500  There's Nothing Holdin' Me Back     27  \n",
       "84                         Attention     27  \n",
       "104                         Rockabye     27  "
      ]
     },
     "execution_count": 6,
     "metadata": {},
     "output_type": "execute_result"
    }
   ],
   "source": [
    "groupby_artist(2018,30)"
   ]
  },
  {
   "cell_type": "code",
   "execution_count": 7,
   "id": "b060ef34",
   "metadata": {},
   "outputs": [],
   "source": [
    "ps.set_option(\"display.max_rows\", 170)"
   ]
  },
  {
   "cell_type": "markdown",
   "id": "1741e273",
   "metadata": {},
   "source": [
    "## 2022 için\n",
    "* 10 listelemede 2 doğru\n",
    "* 20 listelemede 3 doğru\n",
    "* 30 listelemede 5 doğru var. toplamda 10 aday var. %50"
   ]
  },
  {
   "cell_type": "markdown",
   "id": "cd1d00ca",
   "metadata": {},
   "source": [
    "## 2021 için\n",
    "* 10 listelemede 2 doğru\n",
    "* 20 listelemede 4 doğru\n",
    "* 30 listelemede 6 doğru var. toplamda 8 aday var. %75"
   ]
  },
  {
   "cell_type": "markdown",
   "id": "31e2c364",
   "metadata": {},
   "source": [
    "## 2020 için\n",
    "* 10 listelemede 2 doğru\n",
    "* 20 listelemede 5 doğru\n",
    "* 30 listelemede 5 doğru var. toplamda 8 aday var. %62,5"
   ]
  },
  {
   "cell_type": "markdown",
   "id": "9ce337d9",
   "metadata": {},
   "source": [
    "## 2019 için\n",
    "* 10 listelemede 1 doğru\n",
    "* 20 listelemede 3 doğru\n",
    "* 30 listelemede 3 doğru var. toplamda 8 aday var. %37,5"
   ]
  },
  {
   "cell_type": "markdown",
   "id": "30d4258e",
   "metadata": {},
   "source": [
    "## 2018 için\n",
    "* 10 listelemede 3 doğru\n",
    "* 20 listelemede 4 doğru\n",
    "* 30 listelemede 4 doğru var. toplamda 5 aday var. %80"
   ]
  },
  {
   "cell_type": "code",
   "execution_count": 10,
   "id": "22569b89",
   "metadata": {},
   "outputs": [
    {
     "data": {
      "text/html": [
       "<div>\n",
       "<style scoped>\n",
       "    .dataframe tbody tr th:only-of-type {\n",
       "        vertical-align: middle;\n",
       "    }\n",
       "\n",
       "    .dataframe tbody tr th {\n",
       "        vertical-align: top;\n",
       "    }\n",
       "\n",
       "    .dataframe thead th {\n",
       "        text-align: right;\n",
       "    }\n",
       "</style>\n",
       "<table border=\"1\" class=\"dataframe\">\n",
       "  <thead>\n",
       "    <tr style=\"text-align: right;\">\n",
       "      <th></th>\n",
       "      <th>year</th>\n",
       "      <th>title</th>\n",
       "      <th>published_at</th>\n",
       "      <th>updated_at</th>\n",
       "      <th>category</th>\n",
       "      <th>nominee</th>\n",
       "      <th>artist</th>\n",
       "      <th>workers</th>\n",
       "      <th>img</th>\n",
       "      <th>winner</th>\n",
       "    </tr>\n",
       "  </thead>\n",
       "  <tbody>\n",
       "    <tr>\n",
       "      <th>0</th>\n",
       "      <td>2019</td>\n",
       "      <td>62nd Annual GRAMMY Awards  (2019)</td>\n",
       "      <td>2020-05-19T05:10:28-07:00</td>\n",
       "      <td>2020-05-19T05:10:28-07:00</td>\n",
       "      <td>Record Of The Year</td>\n",
       "      <td>Bad Guy</td>\n",
       "      <td>Billie Eilish</td>\n",
       "      <td>Finneas O'Connell, producer; Rob Kinelski &amp; Fi...</td>\n",
       "      <td>https://www.grammy.com/sites/com/files/styles/...</td>\n",
       "      <td>True</td>\n",
       "    </tr>\n",
       "    <tr>\n",
       "      <th>1</th>\n",
       "      <td>2019</td>\n",
       "      <td>62nd Annual GRAMMY Awards  (2019)</td>\n",
       "      <td>2020-05-19T05:10:28-07:00</td>\n",
       "      <td>2020-05-19T05:10:28-07:00</td>\n",
       "      <td>Record Of The Year</td>\n",
       "      <td>Hey, Ma</td>\n",
       "      <td>Bon Iver</td>\n",
       "      <td>BJ Burton, Brad Cook, Chris Messina &amp; Justin V...</td>\n",
       "      <td>https://www.grammy.com/sites/com/files/styles/...</td>\n",
       "      <td>True</td>\n",
       "    </tr>\n",
       "    <tr>\n",
       "      <th>2</th>\n",
       "      <td>2019</td>\n",
       "      <td>62nd Annual GRAMMY Awards  (2019)</td>\n",
       "      <td>2020-05-19T05:10:28-07:00</td>\n",
       "      <td>2020-05-19T05:10:28-07:00</td>\n",
       "      <td>Record Of The Year</td>\n",
       "      <td>7 rings</td>\n",
       "      <td>Ariana Grande</td>\n",
       "      <td>Charles Anderson, Tommy Brown, Michael Foster ...</td>\n",
       "      <td>https://www.grammy.com/sites/com/files/styles/...</td>\n",
       "      <td>True</td>\n",
       "    </tr>\n",
       "    <tr>\n",
       "      <th>3</th>\n",
       "      <td>2019</td>\n",
       "      <td>62nd Annual GRAMMY Awards  (2019)</td>\n",
       "      <td>2020-05-19T05:10:28-07:00</td>\n",
       "      <td>2020-05-19T05:10:28-07:00</td>\n",
       "      <td>Record Of The Year</td>\n",
       "      <td>Hard Place</td>\n",
       "      <td>H.E.R.</td>\n",
       "      <td>Rodney “Darkchild” Jerkins, producer; Joseph H...</td>\n",
       "      <td>https://www.grammy.com/sites/com/files/styles/...</td>\n",
       "      <td>True</td>\n",
       "    </tr>\n",
       "    <tr>\n",
       "      <th>4</th>\n",
       "      <td>2019</td>\n",
       "      <td>62nd Annual GRAMMY Awards  (2019)</td>\n",
       "      <td>2020-05-19T05:10:28-07:00</td>\n",
       "      <td>2020-05-19T05:10:28-07:00</td>\n",
       "      <td>Record Of The Year</td>\n",
       "      <td>Talk</td>\n",
       "      <td>Khalid</td>\n",
       "      <td>Disclosure &amp; Denis Kosiak, producers; Ingmar C...</td>\n",
       "      <td>https://www.grammy.com/sites/com/files/styles/...</td>\n",
       "      <td>True</td>\n",
       "    </tr>\n",
       "    <tr>\n",
       "      <th>5</th>\n",
       "      <td>2019</td>\n",
       "      <td>62nd Annual GRAMMY Awards  (2019)</td>\n",
       "      <td>2020-05-19T05:10:28-07:00</td>\n",
       "      <td>2020-05-19T05:10:28-07:00</td>\n",
       "      <td>Record Of The Year</td>\n",
       "      <td>Old Town Road</td>\n",
       "      <td>Lil Nas X Featuring Billy Ray Cyrus</td>\n",
       "      <td>Andrew \"VoxGod\" Bolooki, Jocelyn “Jozzy” Donal...</td>\n",
       "      <td>https://www.grammy.com/sites/com/files/styles/...</td>\n",
       "      <td>True</td>\n",
       "    </tr>\n",
       "    <tr>\n",
       "      <th>6</th>\n",
       "      <td>2019</td>\n",
       "      <td>62nd Annual GRAMMY Awards  (2019)</td>\n",
       "      <td>2020-05-19T05:10:28-07:00</td>\n",
       "      <td>2020-05-19T05:10:28-07:00</td>\n",
       "      <td>Record Of The Year</td>\n",
       "      <td>Truth Hurts</td>\n",
       "      <td>Lizzo</td>\n",
       "      <td>Ricky Reed &amp; Tele, producers; Chris Galland, M...</td>\n",
       "      <td>https://www.grammy.com/sites/com/files/styles/...</td>\n",
       "      <td>True</td>\n",
       "    </tr>\n",
       "    <tr>\n",
       "      <th>7</th>\n",
       "      <td>2019</td>\n",
       "      <td>62nd Annual GRAMMY Awards  (2019)</td>\n",
       "      <td>2020-05-19T05:10:28-07:00</td>\n",
       "      <td>2020-05-19T05:10:28-07:00</td>\n",
       "      <td>Record Of The Year</td>\n",
       "      <td>Sunflower</td>\n",
       "      <td>Post Malone &amp; Swae Lee</td>\n",
       "      <td>Louis Bell &amp; Carter Lang, producers; Louis Bel...</td>\n",
       "      <td>https://www.grammy.com/sites/com/files/styles/...</td>\n",
       "      <td>True</td>\n",
       "    </tr>\n",
       "    <tr>\n",
       "      <th>8</th>\n",
       "      <td>2019</td>\n",
       "      <td>62nd Annual GRAMMY Awards  (2019)</td>\n",
       "      <td>2020-05-19T05:10:28-07:00</td>\n",
       "      <td>2020-05-19T05:10:28-07:00</td>\n",
       "      <td>Album Of The Year</td>\n",
       "      <td>When We All Fall Asleep, Where Do We Go?</td>\n",
       "      <td>Billie Eilish</td>\n",
       "      <td>Finneas O'Connell, producer; Rob Kinelski &amp; Fi...</td>\n",
       "      <td>https://www.grammy.com/sites/com/files/styles/...</td>\n",
       "      <td>True</td>\n",
       "    </tr>\n",
       "    <tr>\n",
       "      <th>9</th>\n",
       "      <td>2019</td>\n",
       "      <td>62nd Annual GRAMMY Awards  (2019)</td>\n",
       "      <td>2020-05-19T05:10:28-07:00</td>\n",
       "      <td>2020-05-19T05:10:28-07:00</td>\n",
       "      <td>Album Of The Year</td>\n",
       "      <td>I,I</td>\n",
       "      <td>Bon Iver</td>\n",
       "      <td>Brad Cook, Chris Messina &amp; Justin Vernon, prod...</td>\n",
       "      <td>https://www.grammy.com/sites/com/files/styles/...</td>\n",
       "      <td>True</td>\n",
       "    </tr>\n",
       "    <tr>\n",
       "      <th>10</th>\n",
       "      <td>2019</td>\n",
       "      <td>62nd Annual GRAMMY Awards  (2019)</td>\n",
       "      <td>2020-05-19T05:10:28-07:00</td>\n",
       "      <td>2020-05-19T05:10:28-07:00</td>\n",
       "      <td>Album Of The Year</td>\n",
       "      <td>Norman F***ing Rockwell!</td>\n",
       "      <td>Lana Del Rey</td>\n",
       "      <td>Jack Antonoff &amp; Lana Del Rey, producers; Jack ...</td>\n",
       "      <td>https://www.grammy.com/sites/com/files/styles/...</td>\n",
       "      <td>True</td>\n",
       "    </tr>\n",
       "    <tr>\n",
       "      <th>11</th>\n",
       "      <td>2019</td>\n",
       "      <td>62nd Annual GRAMMY Awards  (2019)</td>\n",
       "      <td>2020-05-19T05:10:28-07:00</td>\n",
       "      <td>2020-05-19T05:10:28-07:00</td>\n",
       "      <td>Album Of The Year</td>\n",
       "      <td>thank u, next</td>\n",
       "      <td>Ariana Grande</td>\n",
       "      <td>Tommy Brown, Ilya, Max Martin &amp; Victoria Monet...</td>\n",
       "      <td>https://www.grammy.com/sites/com/files/styles/...</td>\n",
       "      <td>True</td>\n",
       "    </tr>\n",
       "    <tr>\n",
       "      <th>12</th>\n",
       "      <td>2019</td>\n",
       "      <td>62nd Annual GRAMMY Awards  (2019)</td>\n",
       "      <td>2020-05-19T05:10:28-07:00</td>\n",
       "      <td>2020-05-19T05:10:28-07:00</td>\n",
       "      <td>Album Of The Year</td>\n",
       "      <td>I Used To Know Her</td>\n",
       "      <td>H.E.R.</td>\n",
       "      <td>David \"Swagg R'Celious\" Harris, H.E.R., Walter...</td>\n",
       "      <td>https://www.grammy.com/sites/com/files/styles/...</td>\n",
       "      <td>True</td>\n",
       "    </tr>\n",
       "    <tr>\n",
       "      <th>13</th>\n",
       "      <td>2019</td>\n",
       "      <td>62nd Annual GRAMMY Awards  (2019)</td>\n",
       "      <td>2020-05-19T05:10:28-07:00</td>\n",
       "      <td>2020-05-19T05:10:28-07:00</td>\n",
       "      <td>Album Of The Year</td>\n",
       "      <td>7</td>\n",
       "      <td>Lil Nas X</td>\n",
       "      <td>Joe Grasso, engineer/mixer; Montero Lamar Hill...</td>\n",
       "      <td>https://www.grammy.com/sites/com/files/styles/...</td>\n",
       "      <td>True</td>\n",
       "    </tr>\n",
       "    <tr>\n",
       "      <th>14</th>\n",
       "      <td>2019</td>\n",
       "      <td>62nd Annual GRAMMY Awards  (2019)</td>\n",
       "      <td>2020-05-19T05:10:28-07:00</td>\n",
       "      <td>2020-05-19T05:10:28-07:00</td>\n",
       "      <td>Album Of The Year</td>\n",
       "      <td>Cuz I Love You (Deluxe)</td>\n",
       "      <td>Lizzo</td>\n",
       "      <td>Ricky Reed, producer; Manny Marroquin &amp; Ethan ...</td>\n",
       "      <td>https://www.grammy.com/sites/com/files/styles/...</td>\n",
       "      <td>True</td>\n",
       "    </tr>\n",
       "    <tr>\n",
       "      <th>15</th>\n",
       "      <td>2019</td>\n",
       "      <td>62nd Annual GRAMMY Awards  (2019)</td>\n",
       "      <td>2020-05-19T05:10:28-07:00</td>\n",
       "      <td>2020-05-19T05:10:28-07:00</td>\n",
       "      <td>Album Of The Year</td>\n",
       "      <td>Father Of The Bride</td>\n",
       "      <td>Vampire Weekend</td>\n",
       "      <td>Ezra Koenig &amp; Ariel Rechtshaid, producers; Joh...</td>\n",
       "      <td>https://www.grammy.com/sites/com/files/styles/...</td>\n",
       "      <td>True</td>\n",
       "    </tr>\n",
       "    <tr>\n",
       "      <th>16</th>\n",
       "      <td>2019</td>\n",
       "      <td>62nd Annual GRAMMY Awards  (2019)</td>\n",
       "      <td>2020-05-19T05:10:28-07:00</td>\n",
       "      <td>2020-05-19T05:10:28-07:00</td>\n",
       "      <td>Song Of The Year</td>\n",
       "      <td>Bad Guy</td>\n",
       "      <td>NaN</td>\n",
       "      <td>Billie Eilish O'Connell &amp; Finneas O'Connell, s...</td>\n",
       "      <td>https://www.grammy.com/sites/com/files/styles/...</td>\n",
       "      <td>True</td>\n",
       "    </tr>\n",
       "    <tr>\n",
       "      <th>17</th>\n",
       "      <td>2019</td>\n",
       "      <td>62nd Annual GRAMMY Awards  (2019)</td>\n",
       "      <td>2020-05-19T05:10:28-07:00</td>\n",
       "      <td>2020-05-19T05:10:28-07:00</td>\n",
       "      <td>Song Of The Year</td>\n",
       "      <td>Always Remember Us This Way</td>\n",
       "      <td>NaN</td>\n",
       "      <td>Natalie Hemby, Lady Gaga, Hillary Lindsey &amp; Lo...</td>\n",
       "      <td>https://www.grammy.com/sites/com/files/styles/...</td>\n",
       "      <td>True</td>\n",
       "    </tr>\n",
       "    <tr>\n",
       "      <th>18</th>\n",
       "      <td>2019</td>\n",
       "      <td>62nd Annual GRAMMY Awards  (2019)</td>\n",
       "      <td>2020-05-19T05:10:28-07:00</td>\n",
       "      <td>2020-05-19T05:10:28-07:00</td>\n",
       "      <td>Song Of The Year</td>\n",
       "      <td>Bring My Flowers Now</td>\n",
       "      <td>NaN</td>\n",
       "      <td>Brandi Carlile, Phil Hanseroth, Tim Hanseroth ...</td>\n",
       "      <td>https://www.grammy.com/sites/com/files/styles/...</td>\n",
       "      <td>True</td>\n",
       "    </tr>\n",
       "    <tr>\n",
       "      <th>19</th>\n",
       "      <td>2019</td>\n",
       "      <td>62nd Annual GRAMMY Awards  (2019)</td>\n",
       "      <td>2020-05-19T05:10:28-07:00</td>\n",
       "      <td>2020-05-19T05:10:28-07:00</td>\n",
       "      <td>Song Of The Year</td>\n",
       "      <td>Hard Place</td>\n",
       "      <td>NaN</td>\n",
       "      <td>Ruby Amanfu, Sam Ashworth, D. Arcelious Harris...</td>\n",
       "      <td>https://www.grammy.com/sites/com/files/styles/...</td>\n",
       "      <td>True</td>\n",
       "    </tr>\n",
       "  </tbody>\n",
       "</table>\n",
       "</div>"
      ],
      "text/plain": [
       "    year                              title               published_at  \\\n",
       "0   2019  62nd Annual GRAMMY Awards  (2019)  2020-05-19T05:10:28-07:00   \n",
       "1   2019  62nd Annual GRAMMY Awards  (2019)  2020-05-19T05:10:28-07:00   \n",
       "2   2019  62nd Annual GRAMMY Awards  (2019)  2020-05-19T05:10:28-07:00   \n",
       "3   2019  62nd Annual GRAMMY Awards  (2019)  2020-05-19T05:10:28-07:00   \n",
       "4   2019  62nd Annual GRAMMY Awards  (2019)  2020-05-19T05:10:28-07:00   \n",
       "5   2019  62nd Annual GRAMMY Awards  (2019)  2020-05-19T05:10:28-07:00   \n",
       "6   2019  62nd Annual GRAMMY Awards  (2019)  2020-05-19T05:10:28-07:00   \n",
       "7   2019  62nd Annual GRAMMY Awards  (2019)  2020-05-19T05:10:28-07:00   \n",
       "8   2019  62nd Annual GRAMMY Awards  (2019)  2020-05-19T05:10:28-07:00   \n",
       "9   2019  62nd Annual GRAMMY Awards  (2019)  2020-05-19T05:10:28-07:00   \n",
       "10  2019  62nd Annual GRAMMY Awards  (2019)  2020-05-19T05:10:28-07:00   \n",
       "11  2019  62nd Annual GRAMMY Awards  (2019)  2020-05-19T05:10:28-07:00   \n",
       "12  2019  62nd Annual GRAMMY Awards  (2019)  2020-05-19T05:10:28-07:00   \n",
       "13  2019  62nd Annual GRAMMY Awards  (2019)  2020-05-19T05:10:28-07:00   \n",
       "14  2019  62nd Annual GRAMMY Awards  (2019)  2020-05-19T05:10:28-07:00   \n",
       "15  2019  62nd Annual GRAMMY Awards  (2019)  2020-05-19T05:10:28-07:00   \n",
       "16  2019  62nd Annual GRAMMY Awards  (2019)  2020-05-19T05:10:28-07:00   \n",
       "17  2019  62nd Annual GRAMMY Awards  (2019)  2020-05-19T05:10:28-07:00   \n",
       "18  2019  62nd Annual GRAMMY Awards  (2019)  2020-05-19T05:10:28-07:00   \n",
       "19  2019  62nd Annual GRAMMY Awards  (2019)  2020-05-19T05:10:28-07:00   \n",
       "\n",
       "                   updated_at            category  \\\n",
       "0   2020-05-19T05:10:28-07:00  Record Of The Year   \n",
       "1   2020-05-19T05:10:28-07:00  Record Of The Year   \n",
       "2   2020-05-19T05:10:28-07:00  Record Of The Year   \n",
       "3   2020-05-19T05:10:28-07:00  Record Of The Year   \n",
       "4   2020-05-19T05:10:28-07:00  Record Of The Year   \n",
       "5   2020-05-19T05:10:28-07:00  Record Of The Year   \n",
       "6   2020-05-19T05:10:28-07:00  Record Of The Year   \n",
       "7   2020-05-19T05:10:28-07:00  Record Of The Year   \n",
       "8   2020-05-19T05:10:28-07:00   Album Of The Year   \n",
       "9   2020-05-19T05:10:28-07:00   Album Of The Year   \n",
       "10  2020-05-19T05:10:28-07:00   Album Of The Year   \n",
       "11  2020-05-19T05:10:28-07:00   Album Of The Year   \n",
       "12  2020-05-19T05:10:28-07:00   Album Of The Year   \n",
       "13  2020-05-19T05:10:28-07:00   Album Of The Year   \n",
       "14  2020-05-19T05:10:28-07:00   Album Of The Year   \n",
       "15  2020-05-19T05:10:28-07:00   Album Of The Year   \n",
       "16  2020-05-19T05:10:28-07:00    Song Of The Year   \n",
       "17  2020-05-19T05:10:28-07:00    Song Of The Year   \n",
       "18  2020-05-19T05:10:28-07:00    Song Of The Year   \n",
       "19  2020-05-19T05:10:28-07:00    Song Of The Year   \n",
       "\n",
       "                                     nominee  \\\n",
       "0                                    Bad Guy   \n",
       "1                                    Hey, Ma   \n",
       "2                                    7 rings   \n",
       "3                                 Hard Place   \n",
       "4                                       Talk   \n",
       "5                              Old Town Road   \n",
       "6                                Truth Hurts   \n",
       "7                                  Sunflower   \n",
       "8   When We All Fall Asleep, Where Do We Go?   \n",
       "9                                        I,I   \n",
       "10                  Norman F***ing Rockwell!   \n",
       "11                             thank u, next   \n",
       "12                        I Used To Know Her   \n",
       "13                                         7   \n",
       "14                   Cuz I Love You (Deluxe)   \n",
       "15                       Father Of The Bride   \n",
       "16                                   Bad Guy   \n",
       "17               Always Remember Us This Way   \n",
       "18                      Bring My Flowers Now   \n",
       "19                                Hard Place   \n",
       "\n",
       "                                 artist  \\\n",
       "0                         Billie Eilish   \n",
       "1                              Bon Iver   \n",
       "2                         Ariana Grande   \n",
       "3                                H.E.R.   \n",
       "4                                Khalid   \n",
       "5   Lil Nas X Featuring Billy Ray Cyrus   \n",
       "6                                 Lizzo   \n",
       "7                Post Malone & Swae Lee   \n",
       "8                         Billie Eilish   \n",
       "9                              Bon Iver   \n",
       "10                         Lana Del Rey   \n",
       "11                        Ariana Grande   \n",
       "12                               H.E.R.   \n",
       "13                            Lil Nas X   \n",
       "14                                Lizzo   \n",
       "15                      Vampire Weekend   \n",
       "16                                  NaN   \n",
       "17                                  NaN   \n",
       "18                                  NaN   \n",
       "19                                  NaN   \n",
       "\n",
       "                                              workers  \\\n",
       "0   Finneas O'Connell, producer; Rob Kinelski & Fi...   \n",
       "1   BJ Burton, Brad Cook, Chris Messina & Justin V...   \n",
       "2   Charles Anderson, Tommy Brown, Michael Foster ...   \n",
       "3   Rodney “Darkchild” Jerkins, producer; Joseph H...   \n",
       "4   Disclosure & Denis Kosiak, producers; Ingmar C...   \n",
       "5   Andrew \"VoxGod\" Bolooki, Jocelyn “Jozzy” Donal...   \n",
       "6   Ricky Reed & Tele, producers; Chris Galland, M...   \n",
       "7   Louis Bell & Carter Lang, producers; Louis Bel...   \n",
       "8   Finneas O'Connell, producer; Rob Kinelski & Fi...   \n",
       "9   Brad Cook, Chris Messina & Justin Vernon, prod...   \n",
       "10  Jack Antonoff & Lana Del Rey, producers; Jack ...   \n",
       "11  Tommy Brown, Ilya, Max Martin & Victoria Monet...   \n",
       "12  David \"Swagg R'Celious\" Harris, H.E.R., Walter...   \n",
       "13  Joe Grasso, engineer/mixer; Montero Lamar Hill...   \n",
       "14  Ricky Reed, producer; Manny Marroquin & Ethan ...   \n",
       "15  Ezra Koenig & Ariel Rechtshaid, producers; Joh...   \n",
       "16  Billie Eilish O'Connell & Finneas O'Connell, s...   \n",
       "17  Natalie Hemby, Lady Gaga, Hillary Lindsey & Lo...   \n",
       "18  Brandi Carlile, Phil Hanseroth, Tim Hanseroth ...   \n",
       "19  Ruby Amanfu, Sam Ashworth, D. Arcelious Harris...   \n",
       "\n",
       "                                                  img  winner  \n",
       "0   https://www.grammy.com/sites/com/files/styles/...    True  \n",
       "1   https://www.grammy.com/sites/com/files/styles/...    True  \n",
       "2   https://www.grammy.com/sites/com/files/styles/...    True  \n",
       "3   https://www.grammy.com/sites/com/files/styles/...    True  \n",
       "4   https://www.grammy.com/sites/com/files/styles/...    True  \n",
       "5   https://www.grammy.com/sites/com/files/styles/...    True  \n",
       "6   https://www.grammy.com/sites/com/files/styles/...    True  \n",
       "7   https://www.grammy.com/sites/com/files/styles/...    True  \n",
       "8   https://www.grammy.com/sites/com/files/styles/...    True  \n",
       "9   https://www.grammy.com/sites/com/files/styles/...    True  \n",
       "10  https://www.grammy.com/sites/com/files/styles/...    True  \n",
       "11  https://www.grammy.com/sites/com/files/styles/...    True  \n",
       "12  https://www.grammy.com/sites/com/files/styles/...    True  \n",
       "13  https://www.grammy.com/sites/com/files/styles/...    True  \n",
       "14  https://www.grammy.com/sites/com/files/styles/...    True  \n",
       "15  https://www.grammy.com/sites/com/files/styles/...    True  \n",
       "16  https://www.grammy.com/sites/com/files/styles/...    True  \n",
       "17  https://www.grammy.com/sites/com/files/styles/...    True  \n",
       "18  https://www.grammy.com/sites/com/files/styles/...    True  \n",
       "19  https://www.grammy.com/sites/com/files/styles/...    True  "
      ]
     },
     "execution_count": 10,
     "metadata": {},
     "output_type": "execute_result"
    }
   ],
   "source": [
    "url = \"https://raw.githubusercontent.com/micybusy/sketch/main/the_grammy_awards.csv\"\n",
    "with urlopen(url) as f:\n",
    "    content_grammy = ps.read_csv(url, encoding = \"utf-8\")\n",
    "\n",
    "content_grammy[:20]"
   ]
  },
  {
   "cell_type": "code",
   "execution_count": null,
   "id": "a1b8496e",
   "metadata": {},
   "outputs": [],
   "source": []
  }
 ],
 "metadata": {
  "kernelspec": {
   "display_name": "Python 3",
   "language": "python",
   "name": "python3"
  },
  "language_info": {
   "codemirror_mode": {
    "name": "ipython",
    "version": 3
   },
   "file_extension": ".py",
   "mimetype": "text/x-python",
   "name": "python",
   "nbconvert_exporter": "python",
   "pygments_lexer": "ipython3",
   "version": "3.8.8"
  }
 },
 "nbformat": 4,
 "nbformat_minor": 5
}
