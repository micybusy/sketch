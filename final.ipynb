{
 "cells": [
  {
   "cell_type": "markdown",
   "id": "ceba0249",
   "metadata": {},
   "source": []
  },
  {
   "cell_type": "code",
   "execution_count": null,
   "id": "1c0a1390",
   "metadata": {},
   "outputs": [],
   "source": [
    "import pandas as ps\n",
    "from urllib.request import urlopen\n",
    "import requests\n",
    "url = \"https://raw.githubusercontent.com/micybusy/sketch/main/charts.csv\"\n",
    "with urlopen(url) as f:\n",
    "    content = ps.read_csv(url, encoding = \"utf-8\")\n",
    "content[\"rankimportance\"]=101-content[\"rank\"]\n",
    "content"
   ]
  }
 ],
 "metadata": {
  "kernelspec": {
   "display_name": "Python 3",
   "language": "python",
   "name": "python3"
  },
  "language_info": {
   "codemirror_mode": {
    "name": "ipython",
    "version": 3
   },
   "file_extension": ".py",
   "mimetype": "text/x-python",
   "name": "python",
   "nbconvert_exporter": "python",
   "pygments_lexer": "ipython3",
   "version": "3.8.8"
  }
 },
 "nbformat": 4,
 "nbformat_minor": 5
}
